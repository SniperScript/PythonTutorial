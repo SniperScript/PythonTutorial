{
 "cells": [
  {
   "cell_type": "markdown",
   "id": "af4cb7ec",
   "metadata": {},
   "source": [
    "# Functions"
   ]
  },
  {
   "cell_type": "markdown",
   "id": "f34d9286",
   "metadata": {},
   "source": [
    "### There are 2 main type of functions. Define[def] and call() [used by inputing the name of the defined function with the wanted output values]\n",
    "### You can return a value from a function using the return keyword if the function is defined(def).\n",
    "### You can also use the return keyword to exit a function."
   ]
  },
  {
   "cell_type": "code",
   "execution_count": 11,
   "id": "56ac46e7",
   "metadata": {},
   "outputs": [
    {
     "name": "stdout",
     "output_type": "stream",
     "text": [
      "happy birthday\n",
      "To SniperScript\n",
      "\n",
      "happy birthday\n",
      "To SniperScript\n",
      "\n",
      "happy birthday\n",
      "To SniperScript\n",
      "\n"
     ]
    }
   ],
   "source": [
    "def happy_birthday(name):\n",
    "    print(\"happy birthday\")\n",
    "    print(f\"To {name}\")\n",
    "    print()\n",
    "for i in range(3):\n",
    "    happy_birthday(\"SniperScript\")"
   ]
  },
  {
   "cell_type": "code",
   "execution_count": 13,
   "id": "edbc0b3c",
   "metadata": {},
   "outputs": [
    {
     "name": "stdout",
     "output_type": "stream",
     "text": [
      "happy birthday\n",
      "To developer\n",
      "\n"
     ]
    }
   ],
   "source": [
    "happy_birthday(\"developer\")"
   ]
  },
  {
   "cell_type": "code",
   "execution_count": 15,
   "id": "968bb517",
   "metadata": {},
   "outputs": [
    {
     "name": "stdout",
     "output_type": "stream",
     "text": [
      "happy birthday\n",
      "To SniperScript\n",
      "you are 19 years old\n",
      "happy birthday\n",
      "To SniperScript\n",
      "you are 19 years old\n",
      "happy birthday\n",
      "To SniperScript\n",
      "you are 19 years old\n"
     ]
    }
   ],
   "source": [
    "def happy_birthday(name,age):\n",
    "    print(\"happy birthday\")\n",
    "    print(f\"To {name}\")\n",
    "    print(f\"you are {age} years old\")\n",
    "for i in range(3):\n",
    "    happy_birthday(\"SniperScript\",19)"
   ]
  },
  {
   "cell_type": "code",
   "execution_count": 24,
   "id": "30dcef4b",
   "metadata": {},
   "outputs": [
    {
     "name": "stdout",
     "output_type": "stream",
     "text": [
      "happy birthday To SniperScript you are 19 years old\n",
      "happy birthday To me you are 91 years old\n",
      "happy birthday To idk you are 10 years old\n"
     ]
    }
   ],
   "source": [
    "def happy_birthday(name,age):\n",
    "    print(\"happy birthday\",end=\" \")\n",
    "    print(f\"To {name}\",end= \" \")\n",
    "    print(f\"you are {age} years old\")\n",
    "happy_birthday(\"SniperScript\",19)\n",
    "happy_birthday(\"me\",91)\n",
    "happy_birthday(\"idk\",10)"
   ]
  },
  {
   "cell_type": "code",
   "execution_count": 25,
   "id": "be97fca9",
   "metadata": {},
   "outputs": [
    {
     "name": "stdout",
     "output_type": "stream",
     "text": [
      "happy birthday\n",
      "To 19\n",
      "you are SniperScript years old\n",
      "happy birthday\n",
      "To 91\n",
      "you are me years old\n",
      "happy birthday\n",
      "To 10\n",
      "you are idk years old\n"
     ]
    }
   ],
   "source": [
    "def happy_birthday(age,name):\n",
    "    print(\"happy birthday\")\n",
    "    print(f\"To {name}\")\n",
    "    print(f\"you are {age} years old\")\n",
    "happy_birthday(\"SniperScript\",19)\n",
    "happy_birthday(\"me\",91)\n",
    "happy_birthday(\"idk\",10)"
   ]
  },
  {
   "cell_type": "code",
   "execution_count": 39,
   "id": "fe11497c",
   "metadata": {},
   "outputs": [],
   "source": [
    "def display_invoice(username,amount,due_date):\n",
    "    print(f\"hello {username}\", end=\" \")\n",
    "    print(f\"Your bill of ${amount:.2f} is due on {due_date}\")\n",
    "    #we used .2f to limit the amount to 2 decimal places\n",
    "  "
   ]
  },
  {
   "cell_type": "code",
   "execution_count": 40,
   "id": "9fcebf5f",
   "metadata": {},
   "outputs": [
    {
     "name": "stdout",
     "output_type": "stream",
     "text": [
      "hello SniperScript Your bill of $100.00 is due on 20/12/20\n"
     ]
    }
   ],
   "source": [
    "display_invoice(\"SniperScript\",100,\"20/12/20\")\n",
    "# remmeber to to use invreted commas for due date otherwise it will perform the mathematical operation related to the symbol used"
   ]
  },
  {
   "cell_type": "code",
   "execution_count": 41,
   "id": "790c23af",
   "metadata": {},
   "outputs": [
    {
     "name": "stdout",
     "output_type": "stream",
     "text": [
      "3\n",
      "-1\n",
      "2\n",
      "0.5\n"
     ]
    }
   ],
   "source": [
    "def add(x,y):\n",
    "        z=x+y\n",
    "        return z\n",
    "        \n",
    "def subtract(x,y):\n",
    "        z=x-y\n",
    "        return z\n",
    "def multiply(x,y):\n",
    "        z=x*y\n",
    "        return z\n",
    "def divide(x,y):\n",
    "        z=x/y\n",
    "        return z\n",
    "print(add(1,2))\n",
    "print(subtract(1,2))\n",
    "print(multiply(1,2))\n",
    "print(divide(1,2))"
   ]
  },
  {
   "cell_type": "code",
   "execution_count": null,
   "id": "b143e109",
   "metadata": {},
   "outputs": [
    {
     "name": "stdout",
     "output_type": "stream",
     "text": [
      "Sniperscript Developer\n"
     ]
    }
   ],
   "source": [
    "def create_name(first,last):\n",
    "    first=first.capitalize()\n",
    "    last=last.capitalize()\n",
    "    return f\"{first} {last}\" #or return first + \" \" + last\n",
    "print(create_name(\"sniperScRIpt\",\"developer\"))\n",
    "\n",
    "    "
   ]
  },
  {
   "cell_type": "code",
   "execution_count": null,
   "id": "4acc7102",
   "metadata": {},
   "outputs": [],
   "source": [
    "def create_name(first,last):\n",
    "    first=first.capitalize()\n",
    "    last=last.capitalize()\n",
    "    return first + \" \" + last # or return f\"{first} {last}\""
   ]
  },
  {
   "cell_type": "code",
   "execution_count": 50,
   "id": "6425f8be",
   "metadata": {},
   "outputs": [
    {
     "name": "stdout",
     "output_type": "stream",
     "text": [
      "Hello World\n"
     ]
    }
   ],
   "source": [
    "full_name=create_name(\"hello\",\"world\")\n",
    "print(full_name)"
   ]
  },
  {
   "cell_type": "code",
   "execution_count": 51,
   "id": "b85047aa",
   "metadata": {},
   "outputs": [
    {
     "name": "stdout",
     "output_type": "stream",
     "text": [
      "HELLO WORLD\n"
     ]
    }
   ],
   "source": [
    "full_name=full_name.upper()\n",
    "print(full_name)"
   ]
  },
  {
   "cell_type": "code",
   "execution_count": null,
   "id": "c19250a9",
   "metadata": {},
   "outputs": [],
   "source": []
  }
 ],
 "metadata": {
  "kernelspec": {
   "display_name": "base",
   "language": "python",
   "name": "python3"
  },
  "language_info": {
   "codemirror_mode": {
    "name": "ipython",
    "version": 3
   },
   "file_extension": ".py",
   "mimetype": "text/x-python",
   "name": "python",
   "nbconvert_exporter": "python",
   "pygments_lexer": "ipython3",
   "version": "3.13.5"
  }
 },
 "nbformat": 4,
 "nbformat_minor": 5
}
