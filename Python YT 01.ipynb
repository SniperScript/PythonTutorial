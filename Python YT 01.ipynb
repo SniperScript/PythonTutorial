{
 "cells": [
  {
   "cell_type": "markdown",
   "id": "a8a9bab6-147f-40c3-be62-c1ab875ec52e",
   "metadata": {},
   "source": [
    "# HELLO WORLD "
   ]
  },
  {
   "cell_type": "code",
   "execution_count": 28,
   "id": "bb6af579-b84d-4e26-a51f-db34ef1a7942",
   "metadata": {},
   "outputs": [
    {
     "data": {
      "text/plain": [
       "'HEL'"
      ]
     },
     "execution_count": 28,
     "metadata": {},
     "output_type": "execute_result"
    }
   ],
   "source": [
    "stri= \"HELLO\"\n",
    "stri[0:3]"
   ]
  },
  {
   "cell_type": "code",
   "execution_count": 4,
   "id": "169f0bbb-debb-4b02-b2bd-ccfc98cda358",
   "metadata": {},
   "outputs": [
    {
     "name": "stdout",
     "output_type": "stream",
     "text": [
      "Konnichiwa sekai\n"
     ]
    }
   ],
   "source": [
    "print(\"Konnichiwa sekai\")"
   ]
  },
  {
   "cell_type": "code",
   "execution_count": 5,
   "id": "d5fd2b09-f651-464d-a05f-37278db73ba0",
   "metadata": {},
   "outputs": [
    {
     "name": "stdout",
     "output_type": "stream",
     "text": [
      "**********\n"
     ]
    }
   ],
   "source": [
    "print(\"*\" * 10)"
   ]
  },
  {
   "cell_type": "code",
   "execution_count": 7,
   "id": "34ed5efe-3312-464e-9ceb-e943ba5d0d94",
   "metadata": {},
   "outputs": [
    {
     "name": "stdout",
     "output_type": "stream",
     "text": [
      "HElloHElloHElloHElloHElloHElloHElloHElloHElloHEllo\n"
     ]
    }
   ],
   "source": [
    "print(\"HEllo\" * 10)\n",
    "# jITNI BAR MULTIPLY KROGE KISI STATEMENT KO JO \"\" MEI HAI WO UTNI TIME REPEAT HOJAYEGA"
   ]
  },
  {
   "cell_type": "code",
   "execution_count": 8,
   "id": "651ddf8f-1be9-4461-a090-19672c6b3d85",
   "metadata": {},
   "outputs": [
    {
     "data": {
      "text/plain": [
       "' gulugulugulu gulugulugulu gulugulugulu gulugulugulu gulugulugulu gulugulugulu gulugulugulu gulugulugulu gulugulugulu gulugulugulu'"
      ]
     },
     "execution_count": 8,
     "metadata": {},
     "output_type": "execute_result"
    }
   ],
   "source": [
    "\" gulugulugulu\" * 10"
   ]
  },
  {
   "cell_type": "code",
   "execution_count": 9,
   "id": "056128f0-9892-4c1e-9caa-9a3e6c73a1ac",
   "metadata": {},
   "outputs": [
    {
     "name": "stdout",
     "output_type": "stream",
     "text": [
      "2200\n"
     ]
    }
   ],
   "source": [
    "student_count=2200\n",
    "print(student_count)"
   ]
  },
  {
   "cell_type": "code",
   "execution_count": 10,
   "id": "220b9bfe-282d-4548-9a75-3d995d4afdb4",
   "metadata": {},
   "outputs": [
    {
     "data": {
      "text/plain": [
       "float"
      ]
     },
     "execution_count": 10,
     "metadata": {},
     "output_type": "execute_result"
    }
   ],
   "source": [
    "rating=4.99\n",
    "type(rating)"
   ]
  },
  {
   "cell_type": "code",
   "execution_count": 12,
   "id": "9c0ac498-1ea5-4bf3-9d38-4711e6dcd6bd",
   "metadata": {},
   "outputs": [
    {
     "name": "stdout",
     "output_type": "stream",
     "text": [
      "True\n"
     ]
    }
   ],
   "source": [
    "is_real= True\n",
    "print(is_real)"
   ]
  },
  {
   "cell_type": "code",
   "execution_count": 15,
   "id": "46004773-438a-410a-a9c2-5878c74eb591",
   "metadata": {},
   "outputs": [
    {
     "name": "stdout",
     "output_type": "stream",
     "text": [
      "qwerty\n"
     ]
    }
   ],
   "source": [
    "hi = 'qwerty'\n",
    "print(hi)"
   ]
  },
  {
   "cell_type": "code",
   "execution_count": 16,
   "id": "ea764663-9129-43af-944e-b6ecb8a4d243",
   "metadata": {},
   "outputs": [
    {
     "name": "stdout",
     "output_type": "stream",
     "text": [
      "\n",
      "Hi prad,\n",
      "this is you from the past, good luck I have high hopes for you \n",
      "\n"
     ]
    }
   ],
   "source": [
    "message=\"\"\"\n",
    "Hi prad,\n",
    "this is you from the past, good luck I have high hopes for you \n",
    "\"\"\"\n",
    "print(message)"
   ]
  },
  {
   "cell_type": "code",
   "execution_count": 32,
   "id": "b89a77c9-9b3a-4d5f-9306-85541941ba94",
   "metadata": {},
   "outputs": [
    {
     "data": {
      "text/plain": [
       "5"
      ]
     },
     "execution_count": 32,
     "metadata": {},
     "output_type": "execute_result"
    }
   ],
   "source": [
    "len(stri) #for length"
   ]
  },
  {
   "cell_type": "code",
   "execution_count": 33,
   "id": "f6140068-083f-4327-a18f-03ce585509b2",
   "metadata": {},
   "outputs": [
    {
     "name": "stdout",
     "output_type": "stream",
     "text": [
      "5 + 6\n"
     ]
    }
   ],
   "source": [
    "print(len(stri) ,\"+\", len(hi))"
   ]
  },
  {
   "cell_type": "code",
   "execution_count": 48,
   "id": "b793162a-3f8f-44c9-858d-72300515f017",
   "metadata": {},
   "outputs": [
    {
     "name": "stdout",
     "output_type": "stream",
     "text": [
      "HEL\n"
     ]
    }
   ],
   "source": [
    "print(stri[0:3]) # printing normal gives you inverted commas and using print removes them"
   ]
  },
  {
   "cell_type": "code",
   "execution_count": 49,
   "id": "d7d39456-e7a9-4d14-803d-600007bc834f",
   "metadata": {},
   "outputs": [
    {
     "name": "stdout",
     "output_type": "stream",
     "text": [
      "H\n"
     ]
    }
   ],
   "source": [
    "print(stri[-5]) # - of any number takes you to the end of the string in equal amount of the number you entered"
   ]
  },
  {
   "cell_type": "code",
   "execution_count": 50,
   "id": "5b1995b9-a700-4534-a333-d37687c88f67",
   "metadata": {},
   "outputs": [
    {
     "data": {
      "text/plain": [
       "''"
      ]
     },
     "execution_count": 50,
     "metadata": {},
     "output_type": "execute_result"
    }
   ],
   "source": [
    "stri[-1:0] # last letter to the first one has no input therefore empty"
   ]
  },
  {
   "cell_type": "code",
   "execution_count": 51,
   "id": "0a9806e6-56f6-4eeb-b86a-647e112fc96a",
   "metadata": {},
   "outputs": [
    {
     "data": {
      "text/plain": [
       "'HELL'"
      ]
     },
     "execution_count": 51,
     "metadata": {},
     "output_type": "execute_result"
    }
   ],
   "source": [
    "stri[0:-1] # -1 = 5 in the case of string HELLO"
   ]
  },
  {
   "cell_type": "code",
   "execution_count": 52,
   "id": "62b247b1-e21c-4277-9f1b-3f729bdd423a",
   "metadata": {},
   "outputs": [
    {
     "data": {
      "text/plain": [
       "'HELLO'"
      ]
     },
     "execution_count": 52,
     "metadata": {},
     "output_type": "execute_result"
    }
   ],
   "source": [
    "stri[0:] # means that the string has started but runs till infinity value inputted in the string which in this case in 5"
   ]
  },
  {
   "cell_type": "code",
   "execution_count": 57,
   "id": "4c72f9ea-250c-408a-b91f-c86306df0af7",
   "metadata": {},
   "outputs": [
    {
     "data": {
      "text/plain": [
       "'HELLO'"
      ]
     },
     "execution_count": 57,
     "metadata": {},
     "output_type": "execute_result"
    }
   ],
   "source": [
    "stri[:10000] # here it signifies that this function will print all things from start uptill 10000 but in this case of HELLO, the string ends at 5"
   ]
  },
  {
   "cell_type": "code",
   "execution_count": 59,
   "id": "a158cc4d-e20b-4507-ac72-3405f02e09b5",
   "metadata": {},
   "outputs": [
    {
     "data": {
      "text/plain": [
       "'HELLO'"
      ]
     },
     "execution_count": 59,
     "metadata": {},
     "output_type": "execute_result"
    }
   ],
   "source": [
    "stri[:] #simply prints the string from strat to finish"
   ]
  },
  {
   "cell_type": "code",
   "execution_count": 61,
   "id": "bda097fc-385f-40bc-be61-288c79b1d14e",
   "metadata": {},
   "outputs": [
    {
     "data": {
      "text/plain": [
       "''"
      ]
     },
     "execution_count": 61,
     "metadata": {},
     "output_type": "execute_result"
    }
   ],
   "source": [
    "stri[0:0] # empty as it remains on the same point in this case"
   ]
  },
  {
   "cell_type": "code",
   "execution_count": 63,
   "id": "9d9ddf30-865d-4420-a570-84d9ce4a0e3b",
   "metadata": {},
   "outputs": [
    {
     "ename": "SyntaxError",
     "evalue": "unterminated string literal (detected at line 1) (842519658.py, line 1)",
     "output_type": "error",
     "traceback": [
      "\u001b[1;36m  Cell \u001b[1;32mIn[63], line 1\u001b[1;36m\u001b[0m\n\u001b[1;33m    hii= \"hello\"heeoolll\"\u001b[0m\n\u001b[1;37m                        ^\u001b[0m\n\u001b[1;31mSyntaxError\u001b[0m\u001b[1;31m:\u001b[0m unterminated string literal (detected at line 1)\n"
     ]
    }
   ],
   "source": [
    "hii= \"hello\"heeoolll\"\n",
    "print(hii)"
   ]
  },
  {
   "cell_type": "code",
   "execution_count": 65,
   "id": "3a430faf-0f7f-4afc-b7a3-00d7b47bd2e5",
   "metadata": {},
   "outputs": [
    {
     "name": "stdout",
     "output_type": "stream",
     "text": [
      "hello \" hellooosoo\n"
     ]
    }
   ],
   "source": [
    "hiu= \"hello \\\" hellooosoo\"\n",
    "print(hiu)\n",
    "# \\ escapes the complications due to the character right after it"
   ]
  },
  {
   "cell_type": "code",
   "execution_count": 67,
   "id": "c7606138-ea17-4773-b274-d4d5be5bc6ef",
   "metadata": {},
   "outputs": [
    {
     "name": "stdout",
     "output_type": "stream",
     "text": [
      "hi \\ hi\n"
     ]
    }
   ],
   "source": [
    "q= \"hi \\\\ hi\"\n",
    "print(q)"
   ]
  },
  {
   "cell_type": "code",
   "execution_count": 69,
   "id": "00c49226-eeeb-4e8f-aaf3-5f6abbe654b6",
   "metadata": {},
   "outputs": [
    {
     "name": "stdout",
     "output_type": "stream",
     "text": [
      " hello \n",
      " hello\n"
     ]
    }
   ],
   "source": [
    "qw=\" hello \\n hello\"\n",
    "print(qw)"
   ]
  },
  {
   "cell_type": "code",
   "execution_count": 2,
   "id": "8b679fd1-03ef-4b1f-be8a-3ef9b0422b66",
   "metadata": {},
   "outputs": [
    {
     "name": "stdout",
     "output_type": "stream",
     "text": [
      "('prad', 'verma')\n"
     ]
    }
   ],
   "source": [
    "aa= \"prad\"\n",
    "bb=\"verma\"\n",
    "full= aa,bb\n",
    "print(full)"
   ]
  },
  {
   "cell_type": "code",
   "execution_count": 5,
   "id": "9815ccfd-e067-4651-8523-b5315b6d324b",
   "metadata": {},
   "outputs": [
    {
     "name": "stdout",
     "output_type": "stream",
     "text": [
      "prad verma\n"
     ]
    }
   ],
   "source": [
    "ful=f\"{aa} {bb}\"\n",
    "print(ful)"
   ]
  },
  {
   "cell_type": "code",
   "execution_count": 6,
   "id": "a83a60c8-8ab1-449b-b747-6af14d2b8c37",
   "metadata": {},
   "outputs": [
    {
     "data": {
      "text/plain": [
       "4"
      ]
     },
     "execution_count": 6,
     "metadata": {},
     "output_type": "execute_result"
    }
   ],
   "source": [
    "len(aa)"
   ]
  },
  {
   "cell_type": "code",
   "execution_count": 7,
   "id": "178c1ea5-69a4-4381-99f9-ad301a3548d5",
   "metadata": {},
   "outputs": [
    {
     "data": {
      "text/plain": [
       "5"
      ]
     },
     "execution_count": 7,
     "metadata": {},
     "output_type": "execute_result"
    }
   ],
   "source": [
    "len(bb)"
   ]
  },
  {
   "cell_type": "code",
   "execution_count": 11,
   "id": "5328a96a-0574-4a97-b496-9d0118c240ac",
   "metadata": {},
   "outputs": [
    {
     "name": "stdout",
     "output_type": "stream",
     "text": [
      "45 4\n"
     ]
    }
   ],
   "source": [
    "fulll=f\"{len(aa)}{len(bb)} {2+2}\"\n",
    "print(fulll)"
   ]
  },
  {
   "cell_type": "markdown",
   "id": "a09d8add-bc21-4727-a7f3-0c81f6f0d893",
   "metadata": {},
   "source": [
    "# We learnt that we can use the given fuction and use {} while using any valid information within the {} and get the desired output"
   ]
  },
  {
   "cell_type": "code",
   "execution_count": 17,
   "id": "22bd8219-8fbf-4ee3-9699-3b2472a878f2",
   "metadata": {},
   "outputs": [
    {
     "name": "stdout",
     "output_type": "stream",
     "text": [
      "PY PROG\n"
     ]
    }
   ],
   "source": [
    "a=\"py prog\"\n",
    "print(a.upper())"
   ]
  },
  {
   "cell_type": "code",
   "execution_count": 20,
   "id": "3ef087cb-df9d-40d0-9432-c78180d02913",
   "metadata": {},
   "outputs": [
    {
     "name": "stdout",
     "output_type": "stream",
     "text": [
      "py prog\n"
     ]
    }
   ],
   "source": [
    "b=\"PY PROG\"\n",
    "print(b.lower())"
   ]
  },
  {
   "cell_type": "code",
   "execution_count": 24,
   "id": "18780f83-7537-4040-a872-4205d27616e2",
   "metadata": {},
   "outputs": [
    {
     "data": {
      "text/plain": [
       "7"
      ]
     },
     "execution_count": 24,
     "metadata": {},
     "output_type": "execute_result"
    }
   ],
   "source": [
    "len(b)"
   ]
  },
  {
   "cell_type": "code",
   "execution_count": 25,
   "id": "90132707-cfd7-44e4-9a26-d0808e1d6900",
   "metadata": {},
   "outputs": [
    {
     "name": "stdout",
     "output_type": "stream",
     "text": [
      "Py Prog\n"
     ]
    }
   ],
   "source": [
    "print(b.title())"
   ]
  },
  {
   "cell_type": "code",
   "execution_count": 28,
   "id": "ce0f91ad-cbf4-49de-971e-43f40282bb97",
   "metadata": {},
   "outputs": [
    {
     "name": "stdout",
     "output_type": "stream",
     "text": [
      "False\n"
     ]
    }
   ],
   "source": [
    "print(b.isalpha())"
   ]
  },
  {
   "cell_type": "code",
   "execution_count": 34,
   "id": "bdebb63c-f3be-44a4-b909-d66da404aa09",
   "metadata": {},
   "outputs": [
    {
     "name": "stdout",
     "output_type": "stream",
     "text": [
      "PY PROG\n"
     ]
    }
   ],
   "source": [
    "print(b.strip()) \n",
    "# removes the gap in the output window before the beginning of the output statement"
   ]
  },
  {
   "cell_type": "code",
   "execution_count": 35,
   "id": "0276fb79-759d-4370-9dc4-71ab8c99986c",
   "metadata": {},
   "outputs": [
    {
     "name": "stdout",
     "output_type": "stream",
     "text": [
      "PY PROG\n"
     ]
    }
   ],
   "source": [
    "print(b.lstrip())\n",
    "# emoves left gap"
   ]
  },
  {
   "cell_type": "code",
   "execution_count": 36,
   "id": "cb6fda32-d911-4f76-8ba0-431dcd67b7c2",
   "metadata": {},
   "outputs": [
    {
     "name": "stdout",
     "output_type": "stream",
     "text": [
      "PY PROG\n"
     ]
    }
   ],
   "source": [
    "print(b.rstrip())\n",
    "# removes the right gap"
   ]
  },
  {
   "cell_type": "code",
   "execution_count": 43,
   "id": "31ccf490-8f48-48ff-9a7b-04d3f7fa1f90",
   "metadata": {},
   "outputs": [
    {
     "name": "stdout",
     "output_type": "stream",
     "text": [
      "-1\n"
     ]
    }
   ],
   "source": [
    "print(b.find(\"pro\"))\n",
    "# means that it does not exist"
   ]
  },
  {
   "cell_type": "code",
   "execution_count": 44,
   "id": "9f715653-1681-4025-9c5a-9b67a7c31275",
   "metadata": {},
   "outputs": [
    {
     "name": "stdout",
     "output_type": "stream",
     "text": [
      "3\n"
     ]
    }
   ],
   "source": [
    "print(b.find(\"PRO\"))\n",
    "# 3rd from beginning"
   ]
  },
  {
   "cell_type": "code",
   "execution_count": 50,
   "id": "674a5bb3-facd-4726-985f-8d50cf1e0e0b",
   "metadata": {},
   "outputs": [
    {
     "name": "stdout",
     "output_type": "stream",
     "text": [
      "Python PROG\n"
     ]
    }
   ],
   "source": [
    "print(b.replace(\"PY\",\"Python\"))\n",
    "# replaces the given sub string with another sub string"
   ]
  },
  {
   "cell_type": "code",
   "execution_count": 51,
   "id": "5c529843-8a44-42e3-83e0-ae276cf873aa",
   "metadata": {},
   "outputs": [
    {
     "name": "stdout",
     "output_type": "stream",
     "text": [
      "PY PROG\n"
     ]
    }
   ],
   "source": [
    "print(b.replace(\"py\",\"Python\"))\n",
    "# case sensitive language"
   ]
  },
  {
   "cell_type": "code",
   "execution_count": 52,
   "id": "43d76e66-1f55-4490-bdec-29b4ddb29088",
   "metadata": {},
   "outputs": [
    {
     "name": "stdout",
     "output_type": "stream",
     "text": [
      "PythonY PythonROG\n"
     ]
    }
   ],
   "source": [
    "print(b.replace(\"P\",\"Python\"))\n",
    "# replaces all Ps"
   ]
  },
  {
   "cell_type": "code",
   "execution_count": 53,
   "id": "1fe1aa85-0218-4b94-b274-7b2cc413ba24",
   "metadata": {},
   "outputs": [
    {
     "name": "stdout",
     "output_type": "stream",
     "text": [
      "False\n"
     ]
    }
   ],
   "source": [
    "print(\"pro\" in b)"
   ]
  },
  {
   "cell_type": "code",
   "execution_count": 54,
   "id": "766d0dcc-a065-4fb2-9ca0-fd422da18900",
   "metadata": {},
   "outputs": [
    {
     "name": "stdout",
     "output_type": "stream",
     "text": [
      "True\n"
     ]
    }
   ],
   "source": [
    "print(\"PRO\" in b)"
   ]
  },
  {
   "cell_type": "code",
   "execution_count": 55,
   "id": "d5455e5e-9103-4edb-9b28-803508dfbb2f",
   "metadata": {},
   "outputs": [
    {
     "name": "stdout",
     "output_type": "stream",
     "text": [
      "False\n"
     ]
    }
   ],
   "source": [
    "print(\"PRO\" not in b)"
   ]
  },
  {
   "cell_type": "code",
   "execution_count": 56,
   "id": "e35d0036-bec7-47b1-b755-c2ca4860b92b",
   "metadata": {},
   "outputs": [
    {
     "name": "stdout",
     "output_type": "stream",
     "text": [
      "True\n"
     ]
    }
   ],
   "source": [
    "print(\"pro\" not in b)"
   ]
  },
  {
   "cell_type": "code",
   "execution_count": null,
   "id": "903ddeda-4561-4b80-9315-f37f3661b92b",
   "metadata": {},
   "outputs": [],
   "source": []
  }
 ],
 "metadata": {
  "kernelspec": {
   "display_name": "Python [conda env:base] *",
   "language": "python",
   "name": "conda-base-py"
  },
  "language_info": {
   "codemirror_mode": {
    "name": "ipython",
    "version": 3
   },
   "file_extension": ".py",
   "mimetype": "text/x-python",
   "name": "python",
   "nbconvert_exporter": "python",
   "pygments_lexer": "ipython3",
   "version": "3.13.5"
  }
 },
 "nbformat": 4,
 "nbformat_minor": 5
}
