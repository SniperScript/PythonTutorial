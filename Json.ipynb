{
 "cells": [
  {
   "cell_type": "code",
   "execution_count": 25,
   "id": "2238e3c9",
   "metadata": {},
   "outputs": [
    {
     "name": "stdout",
     "output_type": "stream",
     "text": [
      "a\n",
      "a\n",
      "a\n",
      "a\n",
      "b\n",
      "b\n",
      "c\n",
      "d\n"
     ]
    }
   ],
   "source": [
    "names = ['alok','aditya','aman','ash','bhavya','bro','cat','dog']\n",
    "for i in names:\n",
    "   # print(names[0]) # gives output of the first name in names\n",
    "    print(i[0]) # first letter gets printed of every name\n",
    "    "
   ]
  },
  {
   "cell_type": "code",
   "execution_count": null,
   "id": "3b914fd4",
   "metadata": {},
   "outputs": [
    {
     "name": "stdout",
     "output_type": "stream",
     "text": [
      "a\n",
      "l\n",
      "o\n",
      "k\n"
     ]
    },
    {
     "ename": "IndexError",
     "evalue": "string index out of range",
     "output_type": "error",
     "traceback": [
      "\u001b[1;31m---------------------------------------------------------------------------\u001b[0m",
      "\u001b[1;31mIndexError\u001b[0m                                Traceback (most recent call last)",
      "Cell \u001b[1;32mIn[39], line 5\u001b[0m\n\u001b[0;32m      1\u001b[0m \u001b[38;5;28;01mfor\u001b[39;00m j \u001b[38;5;129;01min\u001b[39;00m names:\n\u001b[0;32m      2\u001b[0m     \u001b[38;5;28;01mfor\u001b[39;00m k \u001b[38;5;129;01min\u001b[39;00m \u001b[38;5;28mrange\u001b[39m(\u001b[38;5;241m0\u001b[39m,\u001b[38;5;28mlen\u001b[39m(names)):\n\u001b[0;32m      3\u001b[0m         \u001b[38;5;66;03m#print(names[j])\u001b[39;00m\n\u001b[0;32m      4\u001b[0m         \u001b[38;5;66;03m#if(k<=i):\u001b[39;00m\n\u001b[1;32m----> 5\u001b[0m             \u001b[38;5;28mprint\u001b[39m(j[k])\n",
      "\u001b[1;31mIndexError\u001b[0m: string index out of range"
     ]
    }
   ],
   "source": [
    "for j in names:\n",
    "    for k in range(0,len(names)):\n",
    "        #print(names[j])\n",
    "        #if(k<=i):\n",
    "            print(j[k])     \n",
    "            # I was doodling and this was the outcome\n",
    "    "
   ]
  },
  {
   "cell_type": "code",
   "execution_count": 43,
   "id": "73d5687c",
   "metadata": {},
   "outputs": [
    {
     "name": "stdout",
     "output_type": "stream",
     "text": [
      "a\n",
      "l\n",
      "o\n",
      "k\n",
      "a\n",
      "d\n",
      "i\n",
      "t\n",
      "y\n",
      "a\n",
      "a\n",
      "m\n",
      "a\n",
      "n\n",
      "a\n",
      "s\n",
      "h\n",
      "b\n",
      "h\n",
      "a\n",
      "v\n",
      "y\n",
      "a\n",
      "b\n",
      "r\n",
      "o\n",
      "c\n",
      "a\n",
      "t\n",
      "d\n",
      "o\n",
      "g\n"
     ]
    }
   ],
   "source": [
    "for i in names:\n",
    "    for k in range(0,len(i)):\n",
    "        \n",
    "        print(i[k])"
   ]
  },
  {
   "cell_type": "code",
   "execution_count": 45,
   "id": "d3f13476",
   "metadata": {},
   "outputs": [
    {
     "name": "stdout",
     "output_type": "stream",
     "text": [
      "alok\n",
      "aditya\n",
      "aman\n",
      "ash\n"
     ]
    }
   ],
   "source": [
    "for i in names: # prints names starting with vowels\n",
    "    if(i[0].lower()=='a' or i[0].lower()=='e' or i[0].lower()=='i' or i[0].lower()=='o' or i[0].lower()=='u'):\n",
    "        print(i)"
   ]
  },
  {
   "cell_type": "code",
   "execution_count": 46,
   "id": "20c56fc1",
   "metadata": {},
   "outputs": [
    {
     "name": "stdout",
     "output_type": "stream",
     "text": [
      "alok\n",
      "aditya\n",
      "aman\n",
      "bhavya\n"
     ]
    }
   ],
   "source": [
    "for name in names:\n",
    "    if len(name) > 3:\n",
    "        print(name)"
   ]
  },
  {
   "cell_type": "code",
   "execution_count": 48,
   "id": "c8868e1b",
   "metadata": {},
   "outputs": [
    {
     "name": "stdout",
     "output_type": "stream",
     "text": [
      "alok\n",
      "aditya\n",
      "aman\n",
      "ash\n"
     ]
    }
   ],
   "source": [
    "for i in names: # prints names starting with vowels\n",
    "    if(i[0] in \"aeiouAEIOU\"): #if(i[0].lower()=='a' or i[0].lower()=='e' or i[0].lower()=='i' or i[0].lower()=='o' or i[0].lower()=='u'):\n",
    "        print(i) #same stuff"
   ]
  },
  {
   "cell_type": "markdown",
   "id": "d0be8b7e",
   "metadata": {},
   "source": [
    "# Json Handling \n",
    "* i know the syntax is difficult but it is whata it is"
   ]
  },
  {
   "cell_type": "code",
   "execution_count": 5,
   "id": "da54b67c",
   "metadata": {},
   "outputs": [
    {
     "name": "stdout",
     "output_type": "stream",
     "text": [
      "['desktop.ini', 'Epic Games Launcher.lnk', 'Genshin Impact.lnk', 'Google Play Games beta.lnk', 'rocketleague', 'Steam.lnk', 'Terraria.lnk', 'TLauncher.lnk', 'TModLoader.lnk', 'ULTRAKILL.lnk']\n"
     ]
    }
   ],
   "source": [
    "import os\n",
    "dwn=os.listdir(\"C:\\\\Users\\HP\\\\Desktop\\\\GEMES\")\n",
    "print(dwn )"
   ]
  },
  {
   "cell_type": "code",
   "execution_count": 10,
   "id": "0fbe630c",
   "metadata": {},
   "outputs": [
    {
     "ename": "SyntaxError",
     "evalue": "expected ':' (3985262631.py, line 4)",
     "output_type": "error",
     "traceback": [
      "\u001b[1;36m  Cell \u001b[1;32mIn[10], line 4\u001b[1;36m\u001b[0m\n\u001b[1;33m    with open(file_path,\"r\")\u001b[0m\n\u001b[1;37m                            ^\u001b[0m\n\u001b[1;31mSyntaxError\u001b[0m\u001b[1;31m:\u001b[0m expected ':'\n"
     ]
    }
   ],
   "source": [
    "import json\n",
    "for file in dwn:\n",
    "    file_path=os.path.join(\"C:\\\\Users\\HP\\\\Desktop\\\\GEMES\",file)\n",
    "    with open(file_path,\"r\")"
   ]
  },
  {
   "cell_type": "code",
   "execution_count": 9,
   "id": "53da2dc9",
   "metadata": {},
   "outputs": [],
   "source": [
    "#Real-World Use Case: Reading and Analyzing JSON Data Files\n",
    "#Context:\n",
    "#You learn how to work with files containing JSON data, such as company profiles stored in multiple JSON files inside a folder.\n",
    "\n",
    "#Key Libraries Used:\n",
    "#os: Helps interact with the operating system, especially to read file names inside directories and create file paths.\n",
    "#json: Used to load JSON data from files into Python data structures (like dictionaries).\n",
    "#Process Explained:\n",
    "#Read file names from a folder\n",
    "#Use os.listdir() to get a list of all files in a specified directory.\n",
    "\n",
    "#import os\n",
    "#files = os.listdir('Master LinkedIn data')\n",
    "#Create full paths for each file\n",
    "#Since you only get file names, use os.path.join() to create full file paths to open them.\n",
    "\n",
    "#for file in files:\n",
    "#    file_path = os.path.join('Master LinkedIn data', file)\n",
    "#Open and load JSON data\n",
    "#Open each file and load its content into a Python dictionary using json.load(). Use encoding='utf-8' to avoid encoding issues.\n",
    "\n",
    "#import json\n",
    "#with open(file_path, 'r', encoding='utf-8') as f:\n",
    " #   data = json.load(f)\n",
    "#Check for the key 'founded'\n",
    "#Since not all data might have certain keys, check if 'founded' exists in the dictionary before accessing it to avoid errors.\n",
    "\n",
    "#if 'founded' in data:\n",
    " #   founded_year = data['founded']\n",
    "    # Now you can process founded_year\n",
    "#Store and analyze the extracted data\n",
    "#Collect all founded years in a list or dictionary, then perform operations like counting how many companies were founded in each year.\n",
    "\n",
    "#Why This Is Important\n",
    "#Real JSON data often comes from external sources.\n",
    "#Combining conditionals (if), loops (for), and file handling allows automation.\n",
    "#Enables you to extract meaningful insights from raw data files.\n",
    "#Summary Code Snippet\n",
    "#import os\n",
    "#import json\n",
    "\n",
    "#files = os.listdir('Master LinkedIn data')  # get list of files\n",
    "#founded_years = []\n",
    "\n",
    "#for file in files:\n",
    " #   file_path = os.path.join('Master LinkedIn data', file)\n",
    "  #  with open(file_path, 'r', encoding='utf-8') as f:\n",
    "   #     data = json.load(f)\n",
    "    #    if 'founded' in data:\n",
    "     #       founded_years.append(data['founded'])\n",
    "\n",
    "# Example analysis: count companies founded per year\n",
    "#year_counts = {}\n",
    "#for year in founded_years:\n",
    " #   if year in year_counts:\n",
    "  #      year_counts[year] += 1\n",
    "   # else:\n",
    "    #    year_counts[year] = 1\n",
    "\n",
    "#print(year_counts)"
   ]
  },
  {
   "cell_type": "code",
   "execution_count": 1,
   "id": "070c257b",
   "metadata": {},
   "outputs": [],
   "source": [
    "#import os\n",
    "#import json\n",
    "\n",
    "#files = os.listdir(\"C:\\\\Users\\HP\\\\Desktop\\\\GEMES\")  # get list of files\n",
    "#founded_years = []\n",
    "\n",
    "#for file in files:\n",
    " #   file_path = os.path.join(\"C:\\\\Users\\HP\\\\Desktop\\\\GEMES\", file)\n",
    "  #  with open(file_path, 'r', encoding='utf-8') as f:\n",
    "   #     data = json.load(f)\n",
    "    #    if 'founded' in data:\n",
    "     #       founded_years.append(data['founded'])\n",
    "\n",
    "# Example analysis: count companies founded per year\n",
    "#year_counts = {}\n",
    "#for year in founded_years:\n",
    " #   if year in year_counts:\n",
    "  #      year_counts[year] += 1\n",
    "   # else:\n",
    "    #    year_counts[year] = 1\n",
    "\n",
    "#print(year_counts)"
   ]
  },
  {
   "cell_type": "code",
   "execution_count": 34,
   "id": "b2be66cc",
   "metadata": {},
   "outputs": [
    {
     "name": "stdout",
     "output_type": "stream",
     "text": [
      "{\"tom\": {\"name\": \"tom\", \"address\": \"nonono\"}, \"bob\": {\"name\": \"bob\", \"address\": \"yesyesyes\"}}\n"
     ]
    }
   ],
   "source": [
    "book={} #this is a key\n",
    "book['tom']={\n",
    "\n",
    "    'name': 'tom',\n",
    "    'address':'nonono'\n",
    "}\n",
    "book['bob']={\n",
    "\n",
    "    'name': 'bob',\n",
    "    'address':'yesyesyes'\n",
    "}\n",
    "import json\n",
    "s=json.dumps(book)\n",
    "print(s)\n"
   ]
  },
  {
   "cell_type": "code",
   "execution_count": 35,
   "id": "5638f3c0",
   "metadata": {},
   "outputs": [
    {
     "name": "stdout",
     "output_type": "stream",
     "text": [
      "{\"tom\": {\"name\": \"tom\", \"address\": \"nonono\"}, \"bob\": {\"name\": \"bob\", \"address\": \"yesyesyes\"}}\n"
     ]
    }
   ],
   "source": [
    "book={}\n",
    "book['tom']={\n",
    "\n",
    "    'name': 'tom',\n",
    "    'address':'nonono'\n",
    "}\n",
    "book['bob']={\n",
    "\n",
    "    'name': 'bob',\n",
    "    'address':'yesyesyes'\n",
    "}\n",
    "import json\n",
    "s=json.dumps(book)\n",
    "with open(\"C:\\\\Users\\\\HP\\\\IITM PYTHON\\\\book.txt\",\"w\") as f: #w used for writing the json file in the designated filelocation\n",
    "    f.write(s)\n",
    "    print(s)"
   ]
  },
  {
   "cell_type": "code",
   "execution_count": 36,
   "id": "00f32699",
   "metadata": {},
   "outputs": [
    {
     "data": {
      "text/plain": [
       "'{\"tom\": {\"name\": \"tom\", \"address\": \"nonono\"}, \"bob\": {\"name\": \"bob\", \"address\": \"yesyesyes\"}}'"
      ]
     },
     "execution_count": 36,
     "metadata": {},
     "output_type": "execute_result"
    }
   ],
   "source": [
    "f=open(\"C:\\\\Users\\\\HP\\\\IITM PYTHON\\\\book.txt\",\"r\") #file location and 'r' used as in read\n",
    "s=f.read()\n",
    "s #This guy is a string"
   ]
  },
  {
   "cell_type": "code",
   "execution_count": 37,
   "id": "ee8a14fa",
   "metadata": {},
   "outputs": [
    {
     "data": {
      "text/plain": [
       "{'tom': {'name': 'tom', 'address': 'nonono'},\n",
       " 'bob': {'name': 'bob', 'address': 'yesyesyes'}}"
      ]
     },
     "execution_count": 37,
     "metadata": {},
     "output_type": "execute_result"
    }
   ],
   "source": [
    "import json\n",
    "book=json.loads(s) #for loading s\n",
    "book #this guy is a dictionary"
   ]
  },
  {
   "cell_type": "code",
   "execution_count": 38,
   "id": "a22ca564",
   "metadata": {},
   "outputs": [
    {
     "data": {
      "text/plain": [
       "dict"
      ]
     },
     "execution_count": 38,
     "metadata": {},
     "output_type": "execute_result"
    }
   ],
   "source": [
    "type(book)"
   ]
  },
  {
   "cell_type": "code",
   "execution_count": 39,
   "id": "00a9973b",
   "metadata": {},
   "outputs": [
    {
     "data": {
      "text/plain": [
       "str"
      ]
     },
     "execution_count": 39,
     "metadata": {},
     "output_type": "execute_result"
    }
   ],
   "source": [
    "type(s)"
   ]
  },
  {
   "cell_type": "code",
   "execution_count": 40,
   "id": "72d4670f",
   "metadata": {},
   "outputs": [
    {
     "data": {
      "text/plain": [
       "{'name': 'bob', 'address': 'yesyesyes'}"
      ]
     },
     "execution_count": 40,
     "metadata": {},
     "output_type": "execute_result"
    }
   ],
   "source": [
    "book['bob']"
   ]
  },
  {
   "cell_type": "code",
   "execution_count": 41,
   "id": "5ba48ff8",
   "metadata": {},
   "outputs": [
    {
     "data": {
      "text/plain": [
       "'yesyesyes'"
      ]
     },
     "execution_count": 41,
     "metadata": {},
     "output_type": "execute_result"
    }
   ],
   "source": [
    "book['bob']['address'] "
   ]
  },
  {
   "cell_type": "code",
   "execution_count": 44,
   "id": "9a8ebe04",
   "metadata": {},
   "outputs": [
    {
     "name": "stdout",
     "output_type": "stream",
     "text": [
      "{'name': 'tom', 'address': 'nonono'}\n",
      "{'name': 'bob', 'address': 'yesyesyes'}\n"
     ]
    }
   ],
   "source": [
    "for person in book:\n",
    "    print(book[person]) #basically goes through the key to print all heading variables' data"
   ]
  },
  {
   "cell_type": "markdown",
   "id": "349a8837",
   "metadata": {},
   "source": [
    "### to be continued..."
   ]
  }
 ],
 "metadata": {
  "kernelspec": {
   "display_name": "base",
   "language": "python",
   "name": "python3"
  },
  "language_info": {
   "codemirror_mode": {
    "name": "ipython",
    "version": 3
   },
   "file_extension": ".py",
   "mimetype": "text/x-python",
   "name": "python",
   "nbconvert_exporter": "python",
   "pygments_lexer": "ipython3",
   "version": "3.13.5"
  }
 },
 "nbformat": 4,
 "nbformat_minor": 5
}
