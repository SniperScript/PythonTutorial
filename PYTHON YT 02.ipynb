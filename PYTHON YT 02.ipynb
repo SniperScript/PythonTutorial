{
 "cells": [
  {
   "cell_type": "code",
   "execution_count": 1,
   "id": "afccba6a-ac66-4a47-858f-30299128617c",
   "metadata": {},
   "outputs": [],
   "source": [
    "x= 1"
   ]
  },
  {
   "cell_type": "code",
   "execution_count": 2,
   "id": "445a9fd2-2353-47d7-a89b-9f0695476e9b",
   "metadata": {},
   "outputs": [],
   "source": [
    "x=1.1"
   ]
  },
  {
   "cell_type": "code",
   "execution_count": 5,
   "id": "166c2aaf-b675-4a8a-b954-bc7850e8656e",
   "metadata": {},
   "outputs": [],
   "source": [
    "x=1+2j # A + Bi"
   ]
  },
  {
   "cell_type": "code",
   "execution_count": 6,
   "id": "cae3e636-69a0-4f90-8ae8-e646b5500941",
   "metadata": {},
   "outputs": [
    {
     "name": "stdout",
     "output_type": "stream",
     "text": [
      "(1+2j)\n"
     ]
    }
   ],
   "source": [
    "print(x)"
   ]
  },
  {
   "cell_type": "code",
   "execution_count": 7,
   "id": "f39e58a4-506a-47ee-b37c-c80d72c2720b",
   "metadata": {},
   "outputs": [
    {
     "name": "stdout",
     "output_type": "stream",
     "text": [
      "3.3333333333333335\n"
     ]
    }
   ],
   "source": [
    "print(10/3)"
   ]
  },
  {
   "cell_type": "code",
   "execution_count": 8,
   "id": "6b5f43ae-504a-4fa7-b28f-dbbdeb8f4080",
   "metadata": {},
   "outputs": [
    {
     "name": "stdout",
     "output_type": "stream",
     "text": [
      "3\n"
     ]
    }
   ],
   "source": [
    "print(10//3)"
   ]
  },
  {
   "cell_type": "code",
   "execution_count": 10,
   "id": "e2d2a275-c5a5-4764-9308-342e584f9eb5",
   "metadata": {},
   "outputs": [
    {
     "name": "stdout",
     "output_type": "stream",
     "text": [
      "1\n"
     ]
    }
   ],
   "source": [
    "print(10%3)"
   ]
  },
  {
   "cell_type": "code",
   "execution_count": 11,
   "id": "7cda0c48-58fa-4c1d-9a73-533c6bd4dd37",
   "metadata": {},
   "outputs": [
    {
     "name": "stdout",
     "output_type": "stream",
     "text": [
      "30\n"
     ]
    }
   ],
   "source": [
    "print(10*3)"
   ]
  },
  {
   "cell_type": "code",
   "execution_count": 13,
   "id": "5a5fc34e-c91a-4926-92f6-17b11e60e88a",
   "metadata": {},
   "outputs": [
    {
     "name": "stdout",
     "output_type": "stream",
     "text": [
      "1000\n"
     ]
    }
   ],
   "source": [
    "print(10**3)"
   ]
  },
  {
   "cell_type": "code",
   "execution_count": 15,
   "id": "e15b899e-3438-4e93-8cdc-88b4af0b90df",
   "metadata": {},
   "outputs": [
    {
     "name": "stdout",
     "output_type": "stream",
     "text": [
      "False\n"
     ]
    }
   ],
   "source": [
    "print(0>3)"
   ]
  },
  {
   "cell_type": "code",
   "execution_count": 16,
   "id": "d16468cf-9c30-4ac3-aae0-919b14e63061",
   "metadata": {},
   "outputs": [
    {
     "name": "stdout",
     "output_type": "stream",
     "text": [
      "18\n"
     ]
    }
   ],
   "source": [
    "print(16^2)"
   ]
  },
  {
   "cell_type": "code",
   "execution_count": 17,
   "id": "68dc2477-f1fa-46e1-b025-461bc976861f",
   "metadata": {},
   "outputs": [
    {
     "name": "stdout",
     "output_type": "stream",
     "text": [
      "9\n"
     ]
    }
   ],
   "source": [
    "print(10^3)"
   ]
  },
  {
   "cell_type": "code",
   "execution_count": 18,
   "id": "7ad761da-3a2b-45a0-9d21-f56ddd21bb4a",
   "metadata": {},
   "outputs": [
    {
     "name": "stdout",
     "output_type": "stream",
     "text": [
      "(4+2j)\n"
     ]
    }
   ],
   "source": [
    " x +=3\n",
    "print(x)"
   ]
  },
  {
   "cell_type": "code",
   "execution_count": 19,
   "id": "de0d84c4-aa1e-4d4d-843e-4dd781bbbd93",
   "metadata": {},
   "outputs": [
    {
     "data": {
      "text/plain": [
       "2"
      ]
     },
     "execution_count": 19,
     "metadata": {},
     "output_type": "execute_result"
    }
   ],
   "source": [
    "round(2.3233982843324394)"
   ]
  },
  {
   "cell_type": "code",
   "execution_count": 20,
   "id": "20ea3289-776c-4bdf-a837-c3c5ac2fbc5f",
   "metadata": {},
   "outputs": [
    {
     "data": {
      "text/plain": [
       "2"
      ]
     },
     "execution_count": 20,
     "metadata": {},
     "output_type": "execute_result"
    }
   ],
   "source": [
    "round(2.5)"
   ]
  },
  {
   "cell_type": "code",
   "execution_count": 21,
   "id": "ebd91791-c882-496e-af41-afcf7af7f8e7",
   "metadata": {},
   "outputs": [
    {
     "data": {
      "text/plain": [
       "-3"
      ]
     },
     "execution_count": 21,
     "metadata": {},
     "output_type": "execute_result"
    }
   ],
   "source": [
    "round(-2.9)"
   ]
  },
  {
   "cell_type": "code",
   "execution_count": 22,
   "id": "8ec509e1-4cd3-4efb-83e8-c1b275b6dc91",
   "metadata": {},
   "outputs": [
    {
     "data": {
      "text/plain": [
       "2.9"
      ]
     },
     "execution_count": 22,
     "metadata": {},
     "output_type": "execute_result"
    }
   ],
   "source": [
    "abs(2.9)"
   ]
  },
  {
   "cell_type": "code",
   "execution_count": 23,
   "id": "dd2ab10a-50c3-40ab-9420-d36dac371767",
   "metadata": {},
   "outputs": [
    {
     "name": "stdout",
     "output_type": "stream",
     "text": [
      "2.9\n"
     ]
    }
   ],
   "source": [
    "print(abs(-2.9))"
   ]
  },
  {
   "cell_type": "code",
   "execution_count": 28,
   "id": "cfb1ed1d-dec8-4999-8a10-7ef24a211930",
   "metadata": {},
   "outputs": [
    {
     "name": "stdout",
     "output_type": "stream",
     "text": [
      "3\n",
      "2.9\n"
     ]
    },
    {
     "data": {
      "text/plain": [
       "-2"
      ]
     },
     "execution_count": 28,
     "metadata": {},
     "output_type": "execute_result"
    }
   ],
   "source": [
    "import math\n",
    "print(round(2.9))\n",
    "print(abs(-2.9))\n",
    "math.ceil(2.2)\n",
    "math.ceil(-2.2)"
   ]
  },
  {
   "cell_type": "code",
   "execution_count": 36,
   "id": "20a5a255-c7ba-494b-9adc-7daecc547495",
   "metadata": {},
   "outputs": [
    {
     "name": "stdin",
     "output_type": "stream",
     "text": [
      "x:  122\n"
     ]
    },
    {
     "name": "stdout",
     "output_type": "stream",
     "text": [
      "x: 122, y: 123\n"
     ]
    }
   ],
   "source": [
    "x=input(\"x: \")\n",
    "y= int(x) + 1\n",
    "print(f\"x: {x}, y: {y}\")"
   ]
  },
  {
   "cell_type": "code",
   "execution_count": 37,
   "id": "91ab79b7-979a-49a8-8fb4-e8518a25b702",
   "metadata": {},
   "outputs": [
    {
     "data": {
      "text/plain": [
       "False"
      ]
     },
     "execution_count": 37,
     "metadata": {},
     "output_type": "execute_result"
    }
   ],
   "source": [
    "bool(0)"
   ]
  },
  {
   "cell_type": "code",
   "execution_count": 39,
   "id": "52a56d97-dd0b-4d75-926b-d2b84445268f",
   "metadata": {},
   "outputs": [
    {
     "data": {
      "text/plain": [
       "True"
      ]
     },
     "execution_count": 39,
     "metadata": {},
     "output_type": "execute_result"
    }
   ],
   "source": [
    "bool(1)"
   ]
  },
  {
   "cell_type": "code",
   "execution_count": 40,
   "id": "6bb7cc75-ed84-4d31-adb8-d9c70e38cf52",
   "metadata": {},
   "outputs": [
    {
     "data": {
      "text/plain": [
       "True"
      ]
     },
     "execution_count": 40,
     "metadata": {},
     "output_type": "execute_result"
    }
   ],
   "source": [
    "bool(-1)"
   ]
  },
  {
   "cell_type": "code",
   "execution_count": 41,
   "id": "baa24532-8dab-4713-881e-9adafa0d9772",
   "metadata": {
    "jp-MarkdownHeadingCollapsed": true
   },
   "outputs": [
    {
     "data": {
      "text/plain": [
       "True"
      ]
     },
     "execution_count": 41,
     "metadata": {},
     "output_type": "execute_result"
    }
   ],
   "source": [
    "bool(\"False\")"
   ]
  },
  {
   "cell_type": "code",
   "execution_count": 42,
   "id": "07353c5f-b2a5-4285-8720-d0cc670459d4",
   "metadata": {},
   "outputs": [
    {
     "data": {
      "text/plain": [
       "False"
      ]
     },
     "execution_count": 42,
     "metadata": {},
     "output_type": "execute_result"
    }
   ],
   "source": [
    "bool(None)"
   ]
  },
  {
   "cell_type": "code",
   "execution_count": 43,
   "id": "0fc9dc18-7259-42a7-b6f3-1c50ff0a9ba3",
   "metadata": {},
   "outputs": [
    {
     "data": {
      "text/plain": [
       "False"
      ]
     },
     "execution_count": 43,
     "metadata": {},
     "output_type": "execute_result"
    }
   ],
   "source": [
    "bool()"
   ]
  },
  {
   "cell_type": "code",
   "execution_count": 44,
   "id": "a681b45a-f08d-467c-9512-be18c690ca49",
   "metadata": {},
   "outputs": [
    {
     "data": {
      "text/plain": [
       "False"
      ]
     },
     "execution_count": 44,
     "metadata": {},
     "output_type": "execute_result"
    }
   ],
   "source": [
    "bool(\"\")"
   ]
  },
  {
   "cell_type": "markdown",
   "id": "00259851-0fe3-4b81-9932-004ef66f28c4",
   "metadata": {},
   "source": [
    "# R for RAW.      Y for CODE.       M for MARKDOWN"
   ]
  },
  {
   "cell_type": "code",
   "execution_count": 47,
   "id": "b9e8e477-9fb1-452b-ae73-7ccd1f91d3f6",
   "metadata": {},
   "outputs": [
    {
     "data": {
      "text/plain": [
       "98"
      ]
     },
     "execution_count": 47,
     "metadata": {},
     "output_type": "execute_result"
    }
   ],
   "source": [
    "ord(\"b\") \n",
    "# GIVES THE ASCII CODE VALUE OF THE CHARACTER"
   ]
  },
  {
   "cell_type": "code",
   "execution_count": 49,
   "id": "5abc6448-1f6d-4838-8bc9-47c11fd7a939",
   "metadata": {},
   "outputs": [
    {
     "data": {
      "text/plain": [
       "32"
      ]
     },
     "execution_count": 49,
     "metadata": {},
     "output_type": "execute_result"
    }
   ],
   "source": [
    "ord(\" \")"
   ]
  },
  {
   "cell_type": "code",
   "execution_count": 60,
   "id": "45507b63-a718-4743-ad62-ae5f75f66442",
   "metadata": {},
   "outputs": [
    {
     "name": "stdout",
     "output_type": "stream",
     "text": [
      " lower temp\n"
     ]
    }
   ],
   "source": [
    "temperature=35\n",
    "if temperature>30: #IN java, both if and elseif fuction is run by the computer if the condition is true but in PYTHON only the first true condition will run which in this case is of IF\n",
    "    print(\" lower temp\")\n",
    "elif temperature>20:\n",
    "    print(\"its nice\")\n",
    "else:\n",
    "    print(\"okok\")"
   ]
  },
  {
   "cell_type": "code",
   "execution_count": 66,
   "id": "916f4fea-16e3-40d5-921f-6639e1782b4c",
   "metadata": {},
   "outputs": [
    {
     "name": "stdin",
     "output_type": "stream",
     "text": [
      "age:  18\n"
     ]
    },
    {
     "name": "stdout",
     "output_type": "stream",
     "text": [
      "Eligible\n"
     ]
    }
   ],
   "source": [
    "age= int(input(\"age: \"))\n",
    "if age>=18:\n",
    "    print(\"Eligible\")\n",
    "else:\n",
    "    print(\"CHILD LABOUR\")"
   ]
  },
  {
   "cell_type": "code",
   "execution_count": 69,
   "id": "60ca7648-ea5a-46c2-a3fd-10380b0013dc",
   "metadata": {},
   "outputs": [
    {
     "name": "stdin",
     "output_type": "stream",
     "text": [
      "age:  17\n"
     ]
    },
    {
     "name": "stdout",
     "output_type": "stream",
     "text": [
      "CHILD LABOUR\n"
     ]
    }
   ],
   "source": [
    "age= int(input(\"age: \"))\n",
    "if age>=18:\n",
    "    message= \"Eligible\"\n",
    "else:\n",
    "    message=\"CHILD LABOUR\"\n",
    "print(message)"
   ]
  },
  {
   "cell_type": "code",
   "execution_count": 71,
   "id": "8bb95579-d943-469b-8c24-03715e4fbbb7",
   "metadata": {},
   "outputs": [
    {
     "name": "stdout",
     "output_type": "stream",
     "text": [
      "Not Eligible\n"
     ]
    }
   ],
   "source": [
    "message= \"Eligible\" if age>=18 else \"Not Eligible\"\n",
    "print(message)\n",
    "#last entered age was 17 therefore not eligible"
   ]
  },
  {
   "cell_type": "code",
   "execution_count": 78,
   "id": "395575da-ce9c-4ecf-bb93-25208401ea4d",
   "metadata": {},
   "outputs": [
    {
     "name": "stdout",
     "output_type": "stream",
     "text": [
      "False\n"
     ]
    }
   ],
   "source": [
    "high_income= True\n",
    "good_credit= False\n",
    "if high_income and good_credit: # it is understood that initial condition of the if statement is true so no value is assigned\n",
    "    print(\"ELIGIBLE\")\n",
    "else:\n",
    "    print(bool(0))\n"
   ]
  },
  {
   "cell_type": "code",
   "execution_count": 79,
   "id": "e0105fbc-ad0e-4654-9b7a-d6f606069a7e",
   "metadata": {},
   "outputs": [
    {
     "data": {
      "text/plain": [
       "False"
      ]
     },
     "execution_count": 79,
     "metadata": {},
     "output_type": "execute_result"
    }
   ],
   "source": [
    "bool(0)"
   ]
  },
  {
   "cell_type": "code",
   "execution_count": null,
   "id": "93b64d04-0928-4341-abf9-956d75368d3d",
   "metadata": {},
   "outputs": [],
   "source": []
  },
  {
   "cell_type": "code",
   "execution_count": null,
   "id": "4c84b106-f95c-42f7-9b0f-76380214bcac",
   "metadata": {},
   "outputs": [],
   "source": []
  },
  {
   "cell_type": "code",
   "execution_count": null,
   "id": "cad60617-65e4-4e29-9014-748a56f69dfc",
   "metadata": {},
   "outputs": [],
   "source": []
  },
  {
   "cell_type": "code",
   "execution_count": null,
   "id": "416df7ea-8617-45ce-ad70-077fa66039b5",
   "metadata": {},
   "outputs": [],
   "source": []
  },
  {
   "cell_type": "code",
   "execution_count": null,
   "id": "d46aa870-bdd5-47f3-80b3-996d8cbc9873",
   "metadata": {},
   "outputs": [],
   "source": []
  },
  {
   "cell_type": "code",
   "execution_count": null,
   "id": "9e6c90ab-2e95-42f8-bead-c6ed73879e64",
   "metadata": {},
   "outputs": [],
   "source": []
  },
  {
   "cell_type": "code",
   "execution_count": null,
   "id": "1e4bd20d-6e6a-47dd-9879-48846907e2c9",
   "metadata": {},
   "outputs": [],
   "source": []
  },
  {
   "cell_type": "code",
   "execution_count": null,
   "id": "6086ec3e-0cbe-4a14-a55e-5e5604a83867",
   "metadata": {},
   "outputs": [],
   "source": []
  },
  {
   "cell_type": "code",
   "execution_count": null,
   "id": "41ad1a9e-44ca-4c65-b879-368c8dad5339",
   "metadata": {},
   "outputs": [],
   "source": []
  },
  {
   "cell_type": "code",
   "execution_count": null,
   "id": "6589f52b-b0d0-4a96-a057-ffb9e4b87177",
   "metadata": {},
   "outputs": [],
   "source": []
  },
  {
   "cell_type": "code",
   "execution_count": null,
   "id": "dd21f185-442e-454d-a7e8-697680692709",
   "metadata": {},
   "outputs": [],
   "source": []
  },
  {
   "cell_type": "code",
   "execution_count": null,
   "id": "0ebd5fd5-d19b-4aa1-a93e-7752f2a7b4bc",
   "metadata": {},
   "outputs": [],
   "source": []
  }
 ],
 "metadata": {
  "kernelspec": {
   "display_name": "Python [conda env:base] *",
   "language": "python",
   "name": "conda-base-py"
  },
  "language_info": {
   "codemirror_mode": {
    "name": "ipython",
    "version": 3
   },
   "file_extension": ".py",
   "mimetype": "text/x-python",
   "name": "python",
   "nbconvert_exporter": "python",
   "pygments_lexer": "ipython3",
   "version": "3.13.5"
  }
 },
 "nbformat": 4,
 "nbformat_minor": 5
}
