{
 "cells": [
  {
   "cell_type": "markdown",
   "id": "ff097e53-d99c-44d6-a047-6846aec6bebe",
   "metadata": {},
   "source": [
    "###### PYTHON CLASS "
   ]
  },
  {
   "cell_type": "markdown",
   "id": "54cc60d8-f723-4d4c-a5b2-7edcb1606136",
   "metadata": {},
   "source": [
    "# Comparison"
   ]
  },
  {
   "cell_type": "code",
   "execution_count": 1,
   "id": "02cb13a6-eb33-4871-8d85-803c086e9696",
   "metadata": {},
   "outputs": [
    {
     "data": {
      "text/plain": [
       "True"
      ]
     },
     "execution_count": 1,
     "metadata": {},
     "output_type": "execute_result"
    }
   ],
   "source": [
    "9>8"
   ]
  },
  {
   "cell_type": "code",
   "execution_count": 2,
   "id": "bb73d743-fe9f-4ed1-91d6-10870fd66481",
   "metadata": {},
   "outputs": [
    {
     "data": {
      "text/plain": [
       "1"
      ]
     },
     "execution_count": 2,
     "metadata": {},
     "output_type": "execute_result"
    }
   ],
   "source": [
    "3%2"
   ]
  },
  {
   "cell_type": "code",
   "execution_count": 3,
   "id": "8a3fcea4-3e7a-4dad-b172-b949ff9aac06",
   "metadata": {},
   "outputs": [
    {
     "data": {
      "text/plain": [
       "True"
      ]
     },
     "execution_count": 3,
     "metadata": {},
     "output_type": "execute_result"
    }
   ],
   "source": [
    "True==True"
   ]
  },
  {
   "cell_type": "code",
   "execution_count": 4,
   "id": "e1903005-89e0-4761-b823-238b8c58ec55",
   "metadata": {},
   "outputs": [],
   "source": [
    "# to take admission, min marks required is 50. write a code to solve this"
   ]
  },
  {
   "cell_type": "code",
   "execution_count": 5,
   "id": "2eec4339-2486-4838-a358-694f8f4f094e",
   "metadata": {},
   "outputs": [],
   "source": [
    "# cutoff marks"
   ]
  },
  {
   "cell_type": "code",
   "execution_count": 12,
   "id": "83683ed9-9a51-448a-8d7c-354507c835d4",
   "metadata": {},
   "outputs": [
    {
     "data": {
      "text/plain": [
       "False"
      ]
     },
     "execution_count": 12,
     "metadata": {},
     "output_type": "execute_result"
    }
   ],
   "source": [
    "math_cutoff_marks=50\n",
    "python_cutoff_marks=50\n",
    "\n",
    "# student marks\n",
    "math_scored=20\n",
    "python_scored=51\n",
    "math_scored>=math_cutoff_marks\n",
    "python_scored>=python_cutoff_marks\n",
    "\n",
    "# Admission condition\n",
    "(math_scored>=math_cutoff_marks) and (python_scored>=python_cutoff_marks)"
   ]
  },
  {
   "cell_type": "code",
   "execution_count": 13,
   "id": "b456decb-57b5-4765-81bb-1666c6c10d8f",
   "metadata": {},
   "outputs": [
    {
     "data": {
      "text/plain": [
       "True"
      ]
     },
     "execution_count": 13,
     "metadata": {},
     "output_type": "execute_result"
    }
   ],
   "source": [
    "math_cutoff_marks=50\n",
    "python_cutoff_marks=50\n",
    "\n",
    "# student marks\n",
    "math_scored=50\n",
    "python_scored=51\n",
    "math_scored>=math_cutoff_marks\n",
    "python_scored>=python_cutoff_marks\n",
    "\n",
    "# Admission condition\n",
    "(math_scored>=math_cutoff_marks) and (python_scored>=python_cutoff_marks)"
   ]
  },
  {
   "cell_type": "code",
   "execution_count": 21,
   "id": "0f462fa7-b306-4f80-9a2e-3fc13a0231cf",
   "metadata": {},
   "outputs": [
    {
     "name": "stdin",
     "output_type": "stream",
     "text": [
      "Enter your math marks:  1212\n",
      "Enter your marks in python 121212\n"
     ]
    },
    {
     "data": {
      "text/plain": [
       "True"
      ]
     },
     "execution_count": 21,
     "metadata": {},
     "output_type": "execute_result"
    }
   ],
   "source": [
    "math_cutoff_marks=50\n",
    "python_cutoff_marks=50\n",
    "\n",
    "# student marks\n",
    "math_scored= int(input(\"Enter your math marks: \"))\n",
    "python_scored= int(input(\"Enter your marks in python\"))\n",
    "math_scored>=math_cutoff_marks\n",
    "python_scored>=python_cutoff_marks\n",
    "\n",
    "# Admission condition\n",
    "(math_scored>=math_cutoff_marks) and (python_scored>=python_cutoff_marks)"
   ]
  },
  {
   "cell_type": "code",
   "execution_count": 19,
   "id": "28c75a83-73d5-42e6-8cdb-3d2a29e8f0ce",
   "metadata": {},
   "outputs": [
    {
     "data": {
      "text/plain": [
       "str"
      ]
     },
     "execution_count": 19,
     "metadata": {},
     "output_type": "execute_result"
    }
   ],
   "source": [
    "type(math_scored)\n",
    "# automatically asigns str data type to the asked data as anything can be typecasted as str"
   ]
  },
  {
   "cell_type": "code",
   "execution_count": 17,
   "id": "9e11d396-68f3-48fd-8e1e-1c6fba9398a2",
   "metadata": {},
   "outputs": [
    {
     "data": {
      "text/plain": [
       "int"
      ]
     },
     "execution_count": 17,
     "metadata": {},
     "output_type": "execute_result"
    }
   ],
   "source": [
    "type(math_cutoff_marks)"
   ]
  },
  {
   "cell_type": "code",
   "execution_count": 25,
   "id": "492e4bca-7a12-4255-b6b2-12f12786e77a",
   "metadata": {},
   "outputs": [
    {
     "name": "stdin",
     "output_type": "stream",
     "text": [
      "ENTER MARKS 12367\n",
      "ENTER MAKRS EW3\n"
     ]
    },
    {
     "name": "stdout",
     "output_type": "stream",
     "text": [
      "VALID NUMBER DALO\n"
     ]
    }
   ],
   "source": [
    "math_cutoff_marks=50\n",
    "python_cutoff_marks=50\n",
    "\n",
    "# student marks\n",
    "try:\n",
    "    math_scored=int(input(\"ENTER MARKS\"))\n",
    "except:\n",
    "    print(\"VALID NUMBER DALO\")\n",
    "try:    \n",
    "    python_scored=int(input(\"ENTER MAKRS\"))\n",
    "except:\n",
    "    print(\"VALID NUMBER DALO\")\n",
    "    #Admission condittion\n",
    "    (math_scored>=math_cutoff_marks) and (python_scored>=python_cutoff_marks)"
   ]
  },
  {
   "cell_type": "code",
   "execution_count": 29,
   "id": "4ca016a5-e3a0-46dc-8715-ba848a42a97b",
   "metadata": {},
   "outputs": [
    {
     "name": "stdin",
     "output_type": "stream",
     "text": [
      "ENTER MARKS qwwqw\n"
     ]
    },
    {
     "name": "stdout",
     "output_type": "stream",
     "text": [
      "VALID NUMBER DALO\n"
     ]
    },
    {
     "name": "stdin",
     "output_type": "stream",
     "text": [
      "ENTER MARKS qwqw\n"
     ]
    },
    {
     "name": "stdout",
     "output_type": "stream",
     "text": [
      "VALID NUMBER DALO\n"
     ]
    },
    {
     "data": {
      "text/plain": [
       "False"
      ]
     },
     "execution_count": 29,
     "metadata": {},
     "output_type": "execute_result"
    }
   ],
   "source": [
    "math_cutoff_marks=50\n",
    "python_cutoff_marks=50\n",
    "\n",
    "# student marks\n",
    "try:\n",
    "    math_scored=int(input(\"ENTER MARKS\"))\n",
    "except:\n",
    "    print(\"VALID NUMBER DALO\")\n",
    "try:    \n",
    "    python_scored=int(input(\"ENTER MARKS\"))\n",
    "except:\n",
    "    print(\"VALID NUMBER DALO\")\n",
    "    \n",
    "#Admission condittion    \n",
    "(math_scored>=math_cutoff_marks) and (python_scored>=python_cutoff_marks) \n",
    "\n",
    "# answer false hai kyuki try statement ke false hone par new value register nahi hui so purani value use karni pad gyi jo ki 12367 di thi maine. and python ki last value EW3 thi. agar EW3 koi int type ka number hota toh fir true print hojata. just like the next example"
   ]
  },
  {
   "cell_type": "code",
   "execution_count": 31,
   "id": "c1e04f6a-2348-414f-88fb-ab7db2e83993",
   "metadata": {},
   "outputs": [
    {
     "name": "stdin",
     "output_type": "stream",
     "text": [
      "ENTER MARKS 500\n",
      "ENTER MARKS 100\n"
     ]
    },
    {
     "data": {
      "text/plain": [
       "True"
      ]
     },
     "execution_count": 31,
     "metadata": {},
     "output_type": "execute_result"
    }
   ],
   "source": [
    "math_cutoff_marks=50\n",
    "python_cutoff_marks=50\n",
    "\n",
    "# student marks\n",
    "try:\n",
    "    math_scored=int(input(\"ENTER MARKS\"))\n",
    "except:\n",
    "    print(\"VALID NUMBER DALO\")\n",
    "try:    \n",
    "    python_scored=int(input(\"ENTER MARKS\"))\n",
    "except:\n",
    "    print(\"VALID NUMBER DALO\")\n",
    "    \n",
    "#Admission condittion    \n",
    "(math_scored>=math_cutoff_marks) and (python_scored>=python_cutoff_marks) \n",
    "# iss bar kyuki dono int data type ki value hai and last AND condition fulfill horhi hai isiliye so the new INT VALUES get stored which meet the minimum admission criteria hence the answer is truth"
   ]
  },
  {
   "cell_type": "markdown",
   "id": "b2f7e1ee-8473-4428-ac18-bae7d25512b6",
   "metadata": {},
   "source": [
    "# Agar tumne kernel ko restart krdiya jupyter notebook mei then jo bhi purane stored variables honge wo delete hojayenge so after that if you try the same techinique I mentioned above in the preivous cell/block, the output results in an error\n",
    "\n",
    "\n"
   ]
  },
  {
   "cell_type": "code",
   "execution_count": 32,
   "id": "dfd2efa9-b77b-4ac7-8d64-5dc700b9403c",
   "metadata": {},
   "outputs": [],
   "source": [
    "# IF a line gives an error, the script stops at that point"
   ]
  },
  {
   "cell_type": "code",
   "execution_count": 33,
   "id": "2f92f534-46ce-468a-9e8f-cde395986158",
   "metadata": {},
   "outputs": [
    {
     "name": "stdout",
     "output_type": "stream",
     "text": [
      "prady\n",
      "hello\n"
     ]
    },
    {
     "ename": "ValueError",
     "evalue": "invalid literal for int() with base 10: 'me'",
     "output_type": "error",
     "traceback": [
      "\u001b[1;31m---------------------------------------------------------------------------\u001b[0m",
      "\u001b[1;31mValueError\u001b[0m                                Traceback (most recent call last)",
      "Cell \u001b[1;32mIn[33], line 3\u001b[0m\n\u001b[0;32m      1\u001b[0m \u001b[38;5;28mprint\u001b[39m(\u001b[38;5;124m\"\u001b[39m\u001b[38;5;124mprady\u001b[39m\u001b[38;5;124m\"\u001b[39m)\n\u001b[0;32m      2\u001b[0m \u001b[38;5;28mprint\u001b[39m(\u001b[38;5;124m\"\u001b[39m\u001b[38;5;124mhello\u001b[39m\u001b[38;5;124m\"\u001b[39m)\n\u001b[1;32m----> 3\u001b[0m \u001b[38;5;28mint\u001b[39m(\u001b[38;5;124m\"\u001b[39m\u001b[38;5;124mme\u001b[39m\u001b[38;5;124m\"\u001b[39m)\n\u001b[0;32m      4\u001b[0m \u001b[38;5;28mprint\u001b[39m(\u001b[38;5;124m\"\u001b[39m\u001b[38;5;124mLAL TAMATAR\u001b[39m\u001b[38;5;124m\"\u001b[39m)\n",
      "\u001b[1;31mValueError\u001b[0m: invalid literal for int() with base 10: 'me'"
     ]
    }
   ],
   "source": [
    "print(\"prady\")\n",
    "print(\"hello\")\n",
    "int(\"me\")\n",
    "print(\"LAL TAMATAR\")"
   ]
  },
  {
   "cell_type": "markdown",
   "id": "8f751bf2-cef7-423c-8832-9db745dcbd69",
   "metadata": {},
   "source": [
    "# in the above mentioned code, since the third line contained an error, ie, assigning a string, the data type of int which is not possible THEREFORE the entire process got terminated and the script stopped at the third line. THE FIRST 2 LINES DID GET EXECUTED BUT SINCE THE ENITRE PROGRAM COULD NOT BE ERROR FREE, THEY DIDNT GET PRINTED"
   ]
  },
  {
   "cell_type": "code",
   "execution_count": 39,
   "id": "39e00ecb-930f-4d6f-a797-3540aa4da816",
   "metadata": {},
   "outputs": [
    {
     "name": "stdin",
     "output_type": "stream",
     "text": [
      "ENTER MARKS qw\n"
     ]
    },
    {
     "name": "stdout",
     "output_type": "stream",
     "text": [
      "VALID NUMBER DALO\n",
      "You will get admission\n"
     ]
    }
   ],
   "source": [
    "math_cutoff_marks=50\n",
    "python_cutoff_marks=50\n",
    "\n",
    "# student marks\n",
    "try:\n",
    "    math_scored=int(input(\"ENTER MARKS\"))    \n",
    "    python_scored=int(input(\"ENTER MARKS\"))\n",
    "except:\n",
    "    print(\"VALID NUMBER DALO\")\n",
    "    \n",
    "#Admission condittion    \n",
    "if((math_scored>=math_cutoff_marks) and (python_scored>=python_cutoff_marks))== True:\n",
    "   print(\"You will get admission\")\n",
    "else:\n",
    "   print(\"No admission for you\")"
   ]
  },
  {
   "cell_type": "markdown",
   "id": "e4991bda-ed70-4be8-945a-f2cca39b2b32",
   "metadata": {},
   "source": [
    "# In the above example, the situation is almost exactly similar to the if else statement used in java.\n",
    "#in the example i have taken, I used an str data type input which is invalid and cannot be equal to an int data type therefore the program shifted directly to the else statement, skipping the IF statement"
   ]
  },
  {
   "cell_type": "code",
   "execution_count": 6,
   "id": "3e3a6de6-e6f8-4639-bacf-22d176bad767",
   "metadata": {},
   "outputs": [
    {
     "name": "stdin",
     "output_type": "stream",
     "text": [
      "ENTER MARKS 50\n",
      "ENTER MARKS 50\n"
     ]
    },
    {
     "name": "stdout",
     "output_type": "stream",
     "text": [
      "You will get admission\n"
     ]
    }
   ],
   "source": [
    "math_cutoff_marks=50\n",
    "python_cutoff_marks=50\n",
    "\n",
    " #student marks\n",
    "try:\n",
    "    math_scored=int(input(\"ENTER MARKS\"))    \n",
    "    python_scored=int(input(\"ENTER MARKS\"))\n",
    "except:\n",
    "    print(\"VALID NUMBER DALO\")\n",
    "    \n",
    "#Admission condittion  \n",
    "if((math_scored>100) and (python_scored>100))== False:\n",
    "    if((math_scored>=math_cutoff_marks) and (python_scored>=python_cutoff_marks))== True:\n",
    "        print(\"You will get admission\")\n",
    "    else:\n",
    "        print(\"NO admission for you\")\n",
    "else:\n",
    "   print(\"Invalid entry\")\n",
    " #this type of a loop is called NESTED loop"
   ]
  },
  {
   "cell_type": "code",
   "execution_count": 1,
   "id": "abd8f780-de4d-4016-8630-f12d3f571d54",
   "metadata": {},
   "outputs": [
    {
     "data": {
      "text/plain": [
       "str"
      ]
     },
     "execution_count": 1,
     "metadata": {},
     "output_type": "execute_result"
    }
   ],
   "source": [
    "test_string=\"this is a pyhton class\"\n",
    "type(test_string)"
   ]
  },
  {
   "cell_type": "code",
   "execution_count": 6,
   "id": "82ccad8f-db95-4ad9-b906-e1ecd725925e",
   "metadata": {},
   "outputs": [
    {
     "data": {
      "text/plain": [
       "False"
      ]
     },
     "execution_count": 6,
     "metadata": {},
     "output_type": "execute_result"
    }
   ],
   "source": [
    "ax=\"this is a pyhton class \"\n",
    "ax== test_string"
   ]
  },
  {
   "cell_type": "code",
   "execution_count": 7,
   "id": "83b41424-9e45-46d9-9274-2b3dabce67b7",
   "metadata": {},
   "outputs": [
    {
     "name": "stdout",
     "output_type": "stream",
     "text": [
      "<class 'str'>\n"
     ]
    }
   ],
   "source": [
    "print(type(test_string))"
   ]
  },
  {
   "cell_type": "code",
   "execution_count": 13,
   "id": "c104b95e-995f-40c4-826a-016b907a207c",
   "metadata": {},
   "outputs": [
    {
     "data": {
      "text/plain": [
       "12"
      ]
     },
     "execution_count": 13,
     "metadata": {},
     "output_type": "execute_result"
    }
   ],
   "source": [
    "test_string.find(\"ht\")"
   ]
  },
  {
   "cell_type": "markdown",
   "id": "3d33e13e-6e7e-4968-9d89-32b373411887",
   "metadata": {},
   "source": [
    "# Pressing tab right after \" test_string. \" opens a snippet of methods we can use associated with the string"
   ]
  },
  {
   "cell_type": "markdown",
   "id": "f04a3283-ee64-4f35-916a-3af8ecbfa9ea",
   "metadata": {},
   "source": [
    "# using shift + tab after selecing a method helps describe the usage and the type of method"
   ]
  },
  {
   "cell_type": "code",
   "execution_count": 16,
   "id": "528da44f-00ad-484d-9d79-db5d171cd1cc",
   "metadata": {},
   "outputs": [
    {
     "name": "stdout",
     "output_type": "stream",
     "text": [
      "<class 'int'>\n"
     ]
    }
   ],
   "source": [
    "H=9\n",
    "print(type(H))\n",
    "# H here is an object of INT class therefore we can use the .+TAB shortcut on this"
   ]
  },
  {
   "cell_type": "markdown",
   "id": "6b96fa3f-2543-4848-bbca-d42398cb6123",
   "metadata": {},
   "source": [
    "# LISTS"
   ]
  },
  {
   "cell_type": "code",
   "execution_count": 19,
   "id": "98bf3543-4bde-45de-b425-3d93a186126e",
   "metadata": {},
   "outputs": [
    {
     "name": "stdout",
     "output_type": "stream",
     "text": [
      "<class 'list'>\n"
     ]
    }
   ],
   "source": [
    "name=['me','you','he','she']\n",
    "print(type(name))"
   ]
  },
  {
   "cell_type": "code",
   "execution_count": 25,
   "id": "353fe28b-0082-49bf-a1fc-81814232fb87",
   "metadata": {},
   "outputs": [
    {
     "data": {
      "text/plain": [
       "2"
      ]
     },
     "execution_count": 25,
     "metadata": {},
     "output_type": "execute_result"
    }
   ],
   "source": [
    "name.index(\"he\")\n",
    "# YOU can use TAB shortcuts for list as well"
   ]
  },
  {
   "cell_type": "code",
   "execution_count": 32,
   "id": "5080617e-2dcb-46a6-99cc-0e86ae58faa0",
   "metadata": {},
   "outputs": [
    {
     "data": {
      "text/plain": [
       "'me'"
      ]
     },
     "execution_count": 32,
     "metadata": {},
     "output_type": "execute_result"
    }
   ],
   "source": [
    "name[-4]"
   ]
  },
  {
   "cell_type": "code",
   "execution_count": 142,
   "id": "9de4b822-20dd-4f63-ab92-0ec60a346e5d",
   "metadata": {},
   "outputs": [
    {
     "data": {
      "text/plain": [
       "'she'"
      ]
     },
     "execution_count": 142,
     "metadata": {},
     "output_type": "execute_result"
    }
   ],
   "source": [
    "n1=[\"me\",\"you\",\"he\",\"she\",[\"they\",\"them\"]]\n",
    "n1[3]"
   ]
  },
  {
   "cell_type": "code",
   "execution_count": 143,
   "id": "275f6c57-c051-42a8-bfeb-eb410b3f5358",
   "metadata": {},
   "outputs": [
    {
     "data": {
      "text/plain": [
       "['they', 'them']"
      ]
     },
     "execution_count": 143,
     "metadata": {},
     "output_type": "execute_result"
    }
   ],
   "source": [
    "n1[4]"
   ]
  },
  {
   "cell_type": "code",
   "execution_count": 144,
   "id": "21f87ba2-94a2-4d8f-a96c-8720f73f25a9",
   "metadata": {},
   "outputs": [
    {
     "data": {
      "text/plain": [
       "'them'"
      ]
     },
     "execution_count": 144,
     "metadata": {},
     "output_type": "execute_result"
    }
   ],
   "source": [
    "n1[4][1]"
   ]
  },
  {
   "cell_type": "code",
   "execution_count": 145,
   "id": "b0a0a835-f749-4560-8003-ba370ea5283e",
   "metadata": {},
   "outputs": [
    {
     "data": {
      "text/plain": [
       "'they'"
      ]
     },
     "execution_count": 145,
     "metadata": {},
     "output_type": "execute_result"
    }
   ],
   "source": [
    "n1[4][0]"
   ]
  },
  {
   "cell_type": "code",
   "execution_count": 146,
   "id": "9ca5285f-91ee-474e-9b4f-69421de704b5",
   "metadata": {},
   "outputs": [],
   "source": [
    "n1.insert(3,\"hehe\")"
   ]
  },
  {
   "cell_type": "code",
   "execution_count": 147,
   "id": "909ecd6e-c910-4d49-8bef-182fa4df4e18",
   "metadata": {},
   "outputs": [
    {
     "data": {
      "text/plain": [
       "['me', 'you', 'he', 'hehe', 'she', ['they', 'them']]"
      ]
     },
     "execution_count": 147,
     "metadata": {},
     "output_type": "execute_result"
    }
   ],
   "source": [
    "n1"
   ]
  },
  {
   "cell_type": "code",
   "execution_count": 148,
   "id": "7c1be532-94e7-4a2f-9e67-a2a265442508",
   "metadata": {},
   "outputs": [
    {
     "data": {
      "text/plain": [
       "['me', 'you', 'he', 'hehe', 'hehehe', 'she', ['they', 'them']]"
      ]
     },
     "execution_count": 148,
     "metadata": {},
     "output_type": "execute_result"
    }
   ],
   "source": [
    "n1.insert(4,\"hehehe\")\n",
    "n1"
   ]
  },
  {
   "cell_type": "code",
   "execution_count": 149,
   "id": "59cda41b-3828-4b97-846a-176da81259a8",
   "metadata": {},
   "outputs": [],
   "source": [
    "# printed 2 times as point 4 in list has 2 values stroed"
   ]
  },
  {
   "cell_type": "code",
   "execution_count": 150,
   "id": "c5f8836c-71c5-44da-90ca-75d20aea1008",
   "metadata": {},
   "outputs": [
    {
     "data": {
      "text/plain": [
       "['me', 'you', 'he', 'hehe', 'hehehe', 'nw', 'she', ['they', 'them']]"
      ]
     },
     "execution_count": 150,
     "metadata": {},
     "output_type": "execute_result"
    }
   ],
   "source": [
    "n1.insert(5,\"nw\")\n",
    "n1"
   ]
  },
  {
   "cell_type": "code",
   "execution_count": 151,
   "id": "7b856f3c-7619-4521-839b-6dd54bbe39c3",
   "metadata": {},
   "outputs": [
    {
     "data": {
      "text/plain": [
       "['me', 'you', 'he', 'hehe', 'hehehe', 'she', ['they', 'them']]"
      ]
     },
     "execution_count": 151,
     "metadata": {},
     "output_type": "execute_result"
    }
   ],
   "source": [
    "n1.pop(5)\n",
    "n1"
   ]
  },
  {
   "cell_type": "code",
   "execution_count": 152,
   "id": "1678f517-3e48-465c-95be-8f5fe718b552",
   "metadata": {},
   "outputs": [
    {
     "data": {
      "text/plain": [
       "'she'"
      ]
     },
     "execution_count": 152,
     "metadata": {},
     "output_type": "execute_result"
    }
   ],
   "source": [
    "n1.pop(5) #pop uses index while remove uses the subject at that index. POP also gives an output while REMOVE does not"
   ]
  },
  {
   "cell_type": "code",
   "execution_count": 153,
   "id": "7caa5c39-dbc9-4850-b599-8b64debc74a7",
   "metadata": {},
   "outputs": [],
   "source": [
    "n1.remove(\"he\")"
   ]
  },
  {
   "cell_type": "code",
   "execution_count": 154,
   "id": "e5c6b4c6-41a2-4c87-9215-26bee3218bf3",
   "metadata": {},
   "outputs": [
    {
     "data": {
      "text/plain": [
       "['me', 'you', 'hehe', 'hehehe', ['they', 'them']]"
      ]
     },
     "execution_count": 154,
     "metadata": {},
     "output_type": "execute_result"
    }
   ],
   "source": [
    "n1"
   ]
  },
  {
   "cell_type": "markdown",
   "id": "843fe305-4500-49fb-a083-78ac1d49053c",
   "metadata": {},
   "source": [
    "# popping the same list multiple times with the same command makes a chain which constantly pops the subject at the mentioned index"
   ]
  },
  {
   "cell_type": "code",
   "execution_count": 155,
   "id": "420ef449-8f6c-476e-b8f3-34d094ec347d",
   "metadata": {},
   "outputs": [],
   "source": [
    "n1.reverse() #Used to reverse the order of the elements in the string"
   ]
  },
  {
   "cell_type": "code",
   "execution_count": 156,
   "id": "1db3e246-5313-4806-9da0-afc634516854",
   "metadata": {},
   "outputs": [
    {
     "data": {
      "text/plain": [
       "[['they', 'them'], 'hehehe', 'hehe', 'you', 'me']"
      ]
     },
     "execution_count": 156,
     "metadata": {},
     "output_type": "execute_result"
    }
   ],
   "source": [
    "n1"
   ]
  },
  {
   "cell_type": "code",
   "execution_count": 157,
   "id": "01ed50bb-6b8a-4f2c-8c54-8f9a0d941402",
   "metadata": {},
   "outputs": [
    {
     "data": {
      "text/plain": [
       "['1', '2', '3', '4', '5', '6']"
      ]
     },
     "execution_count": 157,
     "metadata": {},
     "output_type": "execute_result"
    }
   ],
   "source": [
    "n2=['1','2','4','3','6','5']\n",
    "n2.sort()\n",
    "n2"
   ]
  },
  {
   "cell_type": "code",
   "execution_count": 158,
   "id": "ec076a23-74f9-4d32-98f2-34010af4284d",
   "metadata": {},
   "outputs": [
    {
     "ename": "TypeError",
     "evalue": "'<' not supported between instances of 'str' and 'list'",
     "output_type": "error",
     "traceback": [
      "\u001b[1;31m---------------------------------------------------------------------------\u001b[0m",
      "\u001b[1;31mTypeError\u001b[0m                                 Traceback (most recent call last)",
      "Cell \u001b[1;32mIn[158], line 1\u001b[0m\n\u001b[1;32m----> 1\u001b[0m n1\u001b[38;5;241m.\u001b[39msort()\n",
      "\u001b[1;31mTypeError\u001b[0m: '<' not supported between instances of 'str' and 'list'"
     ]
    }
   ],
   "source": [
    "n1.sort() #here sort does NOT work because sort cannot arrange the sub list within the list provided in n1"
   ]
  },
  {
   "cell_type": "code",
   "execution_count": 159,
   "id": "2f062711-962e-484e-a68b-4127fdf51b30",
   "metadata": {},
   "outputs": [
    {
     "data": {
      "text/plain": [
       "[1, 2, 3, 3, 6, 7, 32, 45, 87]"
      ]
     },
     "execution_count": 159,
     "metadata": {},
     "output_type": "execute_result"
    }
   ],
   "source": [
    "n3=[1,3,2,45,6,7,87,32,3]\n",
    "n3.sort()\n",
    "n3"
   ]
  },
  {
   "cell_type": "code",
   "execution_count": 160,
   "id": "37a9bdb9-a11f-441a-91c6-bfd8c3766a64",
   "metadata": {},
   "outputs": [
    {
     "data": {
      "text/plain": [
       "([87, 45, 32, 7, 6, 3, 3, 2, 1], ['1', '2', '3', '4', '5', '6'])"
      ]
     },
     "execution_count": 160,
     "metadata": {},
     "output_type": "execute_result"
    }
   ],
   "source": [
    "n3.sort(reverse=True) # Used to arrange the list in descending order\n",
    "n3,n2 #can print like this as well btw"
   ]
  },
  {
   "cell_type": "code",
   "execution_count": 161,
   "id": "f2d46eac-6082-4c18-8c5b-08b7f623c626",
   "metadata": {},
   "outputs": [
    {
     "data": {
      "text/plain": [
       "[87, 45, 32, 7, 6, 3, 3, 2, 1, '1', '2', '3', '4', '5', '6']"
      ]
     },
     "execution_count": 161,
     "metadata": {},
     "output_type": "execute_result"
    }
   ],
   "source": [
    "n3 + n2 #we can add lists"
   ]
  },
  {
   "cell_type": "code",
   "execution_count": 162,
   "id": "36644127-cbcb-4442-9a08-90fb296506fa",
   "metadata": {},
   "outputs": [
    {
     "ename": "TypeError",
     "evalue": "unsupported operand type(s) for /: 'list' and 'list'",
     "output_type": "error",
     "traceback": [
      "\u001b[1;31m---------------------------------------------------------------------------\u001b[0m",
      "\u001b[1;31mTypeError\u001b[0m                                 Traceback (most recent call last)",
      "Cell \u001b[1;32mIn[162], line 1\u001b[0m\n\u001b[1;32m----> 1\u001b[0m n3\u001b[38;5;241m/\u001b[39mn2\n",
      "\u001b[1;31mTypeError\u001b[0m: unsupported operand type(s) for /: 'list' and 'list'"
     ]
    }
   ],
   "source": [
    "n3/n2 #cannot perform any action than addition"
   ]
  },
  {
   "cell_type": "code",
   "execution_count": 163,
   "id": "99afa8f5-c4a7-4ee7-9709-c445b0a478d7",
   "metadata": {},
   "outputs": [
    {
     "data": {
      "text/plain": [
       "([['they', 'them'], 'hehehe', 'hehe', 'you', 'me'],\n",
       " ['1', '2', '3', '4', '5', '6'],\n",
       " [87, 45, 32, 7, 6, 3, 3, 2, 1])"
      ]
     },
     "execution_count": 163,
     "metadata": {},
     "output_type": "execute_result"
    }
   ],
   "source": [
    "n1,n2,n3"
   ]
  },
  {
   "cell_type": "code",
   "execution_count": 164,
   "id": "f99591d1-c05b-48ed-899a-34ecdbe10d1f",
   "metadata": {},
   "outputs": [
    {
     "data": {
      "text/plain": [
       "[['they', 'them'],\n",
       " 'hehehe',\n",
       " 'hehe',\n",
       " 'you',\n",
       " 'me',\n",
       " '1',\n",
       " '2',\n",
       " '3',\n",
       " '4',\n",
       " '5',\n",
       " '6',\n",
       " 87,\n",
       " 45,\n",
       " 32,\n",
       " 7,\n",
       " 6,\n",
       " 3,\n",
       " 3,\n",
       " 2,\n",
       " 1]"
      ]
     },
     "execution_count": 164,
     "metadata": {},
     "output_type": "execute_result"
    }
   ],
   "source": [
    "n1+n2+n3"
   ]
  },
  {
   "cell_type": "code",
   "execution_count": 167,
   "id": "a279cff7-1f43-4221-959f-9fcc7ef1a402",
   "metadata": {},
   "outputs": [
    {
     "data": {
      "text/plain": [
       "['a', 'b', 'c', 'e']"
      ]
     },
     "execution_count": 167,
     "metadata": {},
     "output_type": "execute_result"
    }
   ],
   "source": [
    "# HOW TO MOVE A NAME FOR ONE POSITION TO ANOTHER IN A LIST \n",
    "# for example, if we need to move 'hehe' from n4 them we use POP and INSERT\n",
    "n4=['a','b','c','d','e']\n",
    "n4.pop(3)\n",
    "n4"
   ]
  },
  {
   "cell_type": "code",
   "execution_count": 168,
   "id": "eb77e163-880f-4d0b-85db-e558e84511f6",
   "metadata": {},
   "outputs": [
    {
     "data": {
      "text/plain": [
       "['a', 'b', 'c', 'e', 'd']"
      ]
     },
     "execution_count": 168,
     "metadata": {},
     "output_type": "execute_result"
    }
   ],
   "source": [
    "n4.insert(4,'d')\n",
    "n4 # WE HAVE ACHIEVEDD OUR GOAL OF MOVING A SUBJECT IN LIST FROM ONE PLACE TO ANOTHER"
   ]
  },
  {
   "cell_type": "code",
   "execution_count": 176,
   "id": "ff95a767-e478-4b03-ba68-34a8e8d811f3",
   "metadata": {},
   "outputs": [
    {
     "data": {
      "text/plain": [
       "['c1', 'c2', 'c3']"
      ]
     },
     "execution_count": 176,
     "metadata": {},
     "output_type": "execute_result"
    }
   ],
   "source": [
    "n5=['a','b',['c1','c2','c3'],'d','e']\n",
    "n5.pop(2)"
   ]
  },
  {
   "cell_type": "code",
   "execution_count": 177,
   "id": "c33d19aa-2482-46c9-b1be-e256868de2cb",
   "metadata": {},
   "outputs": [
    {
     "data": {
      "text/plain": [
       "['a', 'b', 'd', 'e', ['c1', 'c2', 'c3']]"
      ]
     },
     "execution_count": 177,
     "metadata": {},
     "output_type": "execute_result"
    }
   ],
   "source": [
    "n5.insert(4,['c1','c2','c3'])\n",
    "n5"
   ]
  },
  {
   "cell_type": "code",
   "execution_count": 184,
   "id": "92f5cca5-07e8-44e2-afb1-82b36affe19a",
   "metadata": {},
   "outputs": [
    {
     "data": {
      "text/plain": [
       "['aa', 'bb', 'dd', 'ee', 'cc']"
      ]
     },
     "execution_count": 184,
     "metadata": {},
     "output_type": "execute_result"
    }
   ],
   "source": [
    "n6=['aa','bb','cc','dd','ee'] #  A LITTLE PROGRAM I MADE\n",
    "xx=n6.pop(2)\n",
    "n6.insert(4,xx)\n",
    "n6"
   ]
  },
  {
   "cell_type": "code",
   "execution_count": 192,
   "id": "c16ff6d3-609e-4824-9348-25e20570c9b5",
   "metadata": {},
   "outputs": [
    {
     "data": {
      "text/plain": [
       "[]"
      ]
     },
     "execution_count": 192,
     "metadata": {},
     "output_type": "execute_result"
    }
   ],
   "source": [
    "n6.clear()\n",
    "n6 #LISTS CAN BE EMPTIED"
   ]
  },
  {
   "cell_type": "markdown",
   "id": "c4d34efd-abb8-4e8f-a9d9-b472ad2e5587",
   "metadata": {},
   "source": [
    "# TUPLES"
   ]
  },
  {
   "cell_type": "code",
   "execution_count": 4,
   "id": "1745eb27-ba72-4bed-b809-7284a4a5b86b",
   "metadata": {},
   "outputs": [
    {
     "data": {
      "text/plain": [
       "' TUPLES ARE VERY SIMILAR TO LISTS BUT THEY HAVE A FEW KEY DIFFERENCE'"
      ]
     },
     "execution_count": 4,
     "metadata": {},
     "output_type": "execute_result"
    }
   ],
   "source": [
    "message = \"\"\" TUPLES ARE VERY SIMILAR TO LISTS BUT THEY HAVE A FEW KEY DIFFERENCE\"\"\"\n",
    "message"
   ]
  },
  {
   "cell_type": "code",
   "execution_count": 5,
   "id": "d957409b-b1ca-4c63-b0e4-502da58a4c69",
   "metadata": {},
   "outputs": [
    {
     "data": {
      "text/plain": [
       "set"
      ]
     },
     "execution_count": 5,
     "metadata": {},
     "output_type": "execute_result"
    }
   ],
   "source": [
    "t1={'q','w','e','r','t'}\n",
    "type(t1)"
   ]
  },
  {
   "cell_type": "markdown",
   "id": "6c8e47b6-2586-4d2e-9b61-9e3ee8d3d941",
   "metadata": {},
   "source": [
    "###### using square braces[] = list\n",
    "###### using curly braces{} = set\n",
    "###### using parenthesis() = tuple"
   ]
  },
  {
   "cell_type": "code",
   "execution_count": 6,
   "id": "b56fc0cc-b50e-46d7-8d52-7a4b14cb6a2a",
   "metadata": {},
   "outputs": [
    {
     "data": {
      "text/plain": [
       "tuple"
      ]
     },
     "execution_count": 6,
     "metadata": {},
     "output_type": "execute_result"
    }
   ],
   "source": [
    "t2=('q','w','e','r','t')\n",
    "type(t2)"
   ]
  },
  {
   "cell_type": "code",
   "execution_count": 7,
   "id": "b8b5901f-fa46-4252-a976-4560104f497c",
   "metadata": {},
   "outputs": [
    {
     "ename": "AttributeError",
     "evalue": "'tuple' object has no attribute 'clear'",
     "output_type": "error",
     "traceback": [
      "\u001b[1;31m---------------------------------------------------------------------------\u001b[0m",
      "\u001b[1;31mAttributeError\u001b[0m                            Traceback (most recent call last)",
      "Cell \u001b[1;32mIn[7], line 1\u001b[0m\n\u001b[1;32m----> 1\u001b[0m t2\u001b[38;5;241m.\u001b[39mclear()\n",
      "\u001b[1;31mAttributeError\u001b[0m: 'tuple' object has no attribute 'clear'"
     ]
    }
   ],
   "source": [
    "t2.clear() #TUPLES CANNOT BE EMPTIED"
   ]
  },
  {
   "cell_type": "code",
   "execution_count": 8,
   "id": "dcaa7f8d-5aa3-49d7-9601-2e98e877c447",
   "metadata": {},
   "outputs": [
    {
     "data": {
      "text/plain": [
       "1"
      ]
     },
     "execution_count": 8,
     "metadata": {},
     "output_type": "execute_result"
    }
   ],
   "source": [
    "t2.count('q') "
   ]
  },
  {
   "cell_type": "code",
   "execution_count": 9,
   "id": "b8f548b2-28a8-4b9d-9a10-70e6a53dee53",
   "metadata": {},
   "outputs": [
    {
     "name": "stdout",
     "output_type": "stream",
     "text": [
      "1\n",
      "2\n"
     ]
    }
   ],
   "source": [
    "print(1)\n",
    "print(2)"
   ]
  },
  {
   "cell_type": "code",
   "execution_count": 10,
   "id": "9a2503fa-6f08-4355-bc85-b6c42e799cf9",
   "metadata": {},
   "outputs": [
    {
     "ename": "AttributeError",
     "evalue": "'tuple' object has no attribute 'insert'",
     "output_type": "error",
     "traceback": [
      "\u001b[1;31m---------------------------------------------------------------------------\u001b[0m",
      "\u001b[1;31mAttributeError\u001b[0m                            Traceback (most recent call last)",
      "Cell \u001b[1;32mIn[10], line 2\u001b[0m\n\u001b[0;32m      1\u001b[0m t3\u001b[38;5;241m=\u001b[39m(\u001b[38;5;124m'\u001b[39m\u001b[38;5;124maa\u001b[39m\u001b[38;5;124m'\u001b[39m,\u001b[38;5;124m'\u001b[39m\u001b[38;5;124mbb\u001b[39m\u001b[38;5;124m'\u001b[39m,\u001b[38;5;124m'\u001b[39m\u001b[38;5;124mcc\u001b[39m\u001b[38;5;124m'\u001b[39m,\u001b[38;5;124m'\u001b[39m\u001b[38;5;124mdd\u001b[39m\u001b[38;5;124m'\u001b[39m,\u001b[38;5;124m'\u001b[39m\u001b[38;5;124mee\u001b[39m\u001b[38;5;124m'\u001b[39m)\n\u001b[1;32m----> 2\u001b[0m t3\u001b[38;5;241m.\u001b[39minsert(\u001b[38;5;241m4\u001b[39m,\u001b[38;5;241m8\u001b[39m)\n\u001b[0;32m      3\u001b[0m t3\n",
      "\u001b[1;31mAttributeError\u001b[0m: 'tuple' object has no attribute 'insert'"
     ]
    }
   ],
   "source": [
    "t3=('aa','bb','cc','dd','ee')\n",
    "t3.insert(4,8)\n",
    "t3"
   ]
  },
  {
   "cell_type": "code",
   "execution_count": 13,
   "id": "6610376a-0c59-4a9e-80f4-94d0a8a93905",
   "metadata": {},
   "outputs": [
    {
     "data": {
      "text/plain": [
       "['aa', 'bb', 'cc', 'dd', 'ee']"
      ]
     },
     "execution_count": 13,
     "metadata": {},
     "output_type": "execute_result"
    }
   ],
   "source": [
    "list(t3) # CONVERTS TO LIST"
   ]
  },
  {
   "cell_type": "code",
   "execution_count": 15,
   "id": "b109c506-c64e-46a5-bcdf-94474448b610",
   "metadata": {},
   "outputs": [
    {
     "data": {
      "text/plain": [
       "5"
      ]
     },
     "execution_count": 15,
     "metadata": {},
     "output_type": "execute_result"
    }
   ],
   "source": [
    "len(t3) # measures length"
   ]
  },
  {
   "cell_type": "markdown",
   "id": "0a2a65c6-f96c-4b56-84c9-846aa67b2646",
   "metadata": {},
   "source": [
    "### values in tuples are set in stone and therefore cannot be changed and can only be counted or found(index)"
   ]
  },
  {
   "cell_type": "markdown",
   "id": "54f7081d-73ba-4d69-a3c0-66deb25cf09c",
   "metadata": {},
   "source": [
    "# Concept of slicing"
   ]
  },
  {
   "cell_type": "code",
   "execution_count": 17,
   "id": "4e877500-6b1a-404e-8f28-1f8ee21ce539",
   "metadata": {},
   "outputs": [
    {
     "data": {
      "text/plain": [
       "[1, 2, 3, 4, 5, 6]"
      ]
     },
     "execution_count": 17,
     "metadata": {},
     "output_type": "execute_result"
    }
   ],
   "source": [
    "marks={1,2,3,4,5,6}\n",
    "marks=list(marks)\n",
    "marks"
   ]
  },
  {
   "cell_type": "code",
   "execution_count": 18,
   "id": "226d3208-3057-47f5-ad08-6cf315cc218c",
   "metadata": {},
   "outputs": [
    {
     "data": {
      "text/plain": [
       "0"
      ]
     },
     "execution_count": 18,
     "metadata": {},
     "output_type": "execute_result"
    }
   ],
   "source": [
    "empty_list =[]\n",
    "len(empty_list)"
   ]
  },
  {
   "cell_type": "markdown",
   "id": "8aea0fd0-b992-48d7-922f-5c979108b44e",
   "metadata": {},
   "source": [
    "### empty_list.   \n",
    "###### BY USING . + TAB we can again use all in built functions on our empty list but because our list is empty, there are certain limitations to the number of functions we can ACTUALLY use"
   ]
  },
  {
   "cell_type": "code",
   "execution_count": 20,
   "id": "ffc4c8e1-6c0d-4572-b6cf-b905370e5471",
   "metadata": {},
   "outputs": [
    {
     "data": {
      "text/plain": [
       "[]"
      ]
     },
     "execution_count": 20,
     "metadata": {},
     "output_type": "execute_result"
    }
   ],
   "source": [
    "empty = list()\n",
    "empty #another way of creating an empty list"
   ]
  },
  {
   "cell_type": "markdown",
   "id": "641e86af-9f50-4bfe-a21b-d869a4078112",
   "metadata": {},
   "source": [
    "# CHAPTER 1 FINISHES HERE"
   ]
  },
  {
   "cell_type": "code",
   "execution_count": null,
   "id": "9459a8c6-c1ba-4037-8ad3-8cf3e95f8ebc",
   "metadata": {},
   "outputs": [],
   "source": []
  }
 ],
 "metadata": {
  "kernelspec": {
   "display_name": "Python [conda env:base] *",
   "language": "python",
   "name": "conda-base-py"
  },
  "language_info": {
   "codemirror_mode": {
    "name": "ipython",
    "version": 3
   },
   "file_extension": ".py",
   "mimetype": "text/x-python",
   "name": "python",
   "nbconvert_exporter": "python",
   "pygments_lexer": "ipython3",
   "version": "3.13.5"
  }
 },
 "nbformat": 4,
 "nbformat_minor": 5
}
