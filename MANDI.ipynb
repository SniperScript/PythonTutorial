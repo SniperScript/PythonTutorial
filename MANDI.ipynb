{
 "cells": [
  {
   "cell_type": "markdown",
   "id": "ff097e53-d99c-44d6-a047-6846aec6bebe",
   "metadata": {},
   "source": [
    "###### PYTHON CLASS "
   ]
  },
  {
   "cell_type": "markdown",
   "id": "54cc60d8-f723-4d4c-a5b2-7edcb1606136",
   "metadata": {},
   "source": [
    "# Comparison"
   ]
  },
  {
   "cell_type": "code",
   "execution_count": 1,
   "id": "02cb13a6-eb33-4871-8d85-803c086e9696",
   "metadata": {},
   "outputs": [
    {
     "data": {
      "text/plain": [
       "True"
      ]
     },
     "execution_count": 1,
     "metadata": {},
     "output_type": "execute_result"
    }
   ],
   "source": [
    "9>8"
   ]
  },
  {
   "cell_type": "code",
   "execution_count": 2,
   "id": "bb73d743-fe9f-4ed1-91d6-10870fd66481",
   "metadata": {},
   "outputs": [
    {
     "data": {
      "text/plain": [
       "1"
      ]
     },
     "execution_count": 2,
     "metadata": {},
     "output_type": "execute_result"
    }
   ],
   "source": [
    "3%2"
   ]
  },
  {
   "cell_type": "code",
   "execution_count": 3,
   "id": "8a3fcea4-3e7a-4dad-b172-b949ff9aac06",
   "metadata": {},
   "outputs": [
    {
     "data": {
      "text/plain": [
       "True"
      ]
     },
     "execution_count": 3,
     "metadata": {},
     "output_type": "execute_result"
    }
   ],
   "source": [
    "True==True"
   ]
  },
  {
   "cell_type": "code",
   "execution_count": 4,
   "id": "e1903005-89e0-4761-b823-238b8c58ec55",
   "metadata": {},
   "outputs": [],
   "source": [
    "# to take admission, min marks required is 50. write a code to solve this"
   ]
  },
  {
   "cell_type": "code",
   "execution_count": 5,
   "id": "2eec4339-2486-4838-a358-694f8f4f094e",
   "metadata": {},
   "outputs": [],
   "source": [
    "# cutoff marks"
   ]
  },
  {
   "cell_type": "code",
   "execution_count": 12,
   "id": "83683ed9-9a51-448a-8d7c-354507c835d4",
   "metadata": {},
   "outputs": [
    {
     "data": {
      "text/plain": [
       "False"
      ]
     },
     "execution_count": 12,
     "metadata": {},
     "output_type": "execute_result"
    }
   ],
   "source": [
    "math_cutoff_marks=50\n",
    "python_cutoff_marks=50\n",
    "\n",
    "# student marks\n",
    "math_scored=20\n",
    "python_scored=51\n",
    "math_scored>=math_cutoff_marks\n",
    "python_scored>=python_cutoff_marks\n",
    "\n",
    "# Admission condition\n",
    "(math_scored>=math_cutoff_marks) and (python_scored>=python_cutoff_marks)"
   ]
  },
  {
   "cell_type": "code",
   "execution_count": 13,
   "id": "b456decb-57b5-4765-81bb-1666c6c10d8f",
   "metadata": {},
   "outputs": [
    {
     "data": {
      "text/plain": [
       "True"
      ]
     },
     "execution_count": 13,
     "metadata": {},
     "output_type": "execute_result"
    }
   ],
   "source": [
    "math_cutoff_marks=50\n",
    "python_cutoff_marks=50\n",
    "\n",
    "# student marks\n",
    "math_scored=50\n",
    "python_scored=51\n",
    "math_scored>=math_cutoff_marks\n",
    "python_scored>=python_cutoff_marks\n",
    "\n",
    "# Admission condition\n",
    "(math_scored>=math_cutoff_marks) and (python_scored>=python_cutoff_marks)"
   ]
  },
  {
   "cell_type": "code",
   "execution_count": 21,
   "id": "0f462fa7-b306-4f80-9a2e-3fc13a0231cf",
   "metadata": {},
   "outputs": [
    {
     "name": "stdin",
     "output_type": "stream",
     "text": [
      "Enter your math marks:  1212\n",
      "Enter your marks in python 121212\n"
     ]
    },
    {
     "data": {
      "text/plain": [
       "True"
      ]
     },
     "execution_count": 21,
     "metadata": {},
     "output_type": "execute_result"
    }
   ],
   "source": [
    "math_cutoff_marks=50\n",
    "python_cutoff_marks=50\n",
    "\n",
    "# student marks\n",
    "math_scored= int(input(\"Enter your math marks: \"))\n",
    "python_scored= int(input(\"Enter your marks in python\"))\n",
    "math_scored>=math_cutoff_marks\n",
    "python_scored>=python_cutoff_marks\n",
    "\n",
    "# Admission condition\n",
    "(math_scored>=math_cutoff_marks) and (python_scored>=python_cutoff_marks)"
   ]
  },
  {
   "cell_type": "code",
   "execution_count": 19,
   "id": "28c75a83-73d5-42e6-8cdb-3d2a29e8f0ce",
   "metadata": {},
   "outputs": [
    {
     "data": {
      "text/plain": [
       "str"
      ]
     },
     "execution_count": 19,
     "metadata": {},
     "output_type": "execute_result"
    }
   ],
   "source": [
    "type(math_scored)\n",
    "# automatically asigns str data type to the asked data as anything can be typecasted as str"
   ]
  },
  {
   "cell_type": "code",
   "execution_count": 17,
   "id": "9e11d396-68f3-48fd-8e1e-1c6fba9398a2",
   "metadata": {},
   "outputs": [
    {
     "data": {
      "text/plain": [
       "int"
      ]
     },
     "execution_count": 17,
     "metadata": {},
     "output_type": "execute_result"
    }
   ],
   "source": [
    "type(math_cutoff_marks)"
   ]
  },
  {
   "cell_type": "code",
   "execution_count": 25,
   "id": "492e4bca-7a12-4255-b6b2-12f12786e77a",
   "metadata": {},
   "outputs": [
    {
     "name": "stdin",
     "output_type": "stream",
     "text": [
      "ENTER MARKS 12367\n",
      "ENTER MAKRS EW3\n"
     ]
    },
    {
     "name": "stdout",
     "output_type": "stream",
     "text": [
      "VALID NUMBER DALO\n"
     ]
    }
   ],
   "source": [
    "math_cutoff_marks=50\n",
    "python_cutoff_marks=50\n",
    "\n",
    "# student marks\n",
    "try:\n",
    "    math_scored=int(input(\"ENTER MARKS\"))\n",
    "except:\n",
    "    print(\"VALID NUMBER DALO\")\n",
    "try:    \n",
    "    python_scored=int(input(\"ENTER MAKRS\"))\n",
    "except:\n",
    "    print(\"VALID NUMBER DALO\")\n",
    "    #Admission condittion\n",
    "    (math_scored>=math_cutoff_marks) and (python_scored>=python_cutoff_marks)"
   ]
  },
  {
   "cell_type": "code",
   "execution_count": 29,
   "id": "4ca016a5-e3a0-46dc-8715-ba848a42a97b",
   "metadata": {},
   "outputs": [
    {
     "name": "stdin",
     "output_type": "stream",
     "text": [
      "ENTER MARKS qwwqw\n"
     ]
    },
    {
     "name": "stdout",
     "output_type": "stream",
     "text": [
      "VALID NUMBER DALO\n"
     ]
    },
    {
     "name": "stdin",
     "output_type": "stream",
     "text": [
      "ENTER MARKS qwqw\n"
     ]
    },
    {
     "name": "stdout",
     "output_type": "stream",
     "text": [
      "VALID NUMBER DALO\n"
     ]
    },
    {
     "data": {
      "text/plain": [
       "False"
      ]
     },
     "execution_count": 29,
     "metadata": {},
     "output_type": "execute_result"
    }
   ],
   "source": [
    "math_cutoff_marks=50\n",
    "python_cutoff_marks=50\n",
    "\n",
    "# student marks\n",
    "try:\n",
    "    math_scored=int(input(\"ENTER MARKS\"))\n",
    "except:\n",
    "    print(\"VALID NUMBER DALO\")\n",
    "try:    \n",
    "    python_scored=int(input(\"ENTER MARKS\"))\n",
    "except:\n",
    "    print(\"VALID NUMBER DALO\")\n",
    "    \n",
    "#Admission condittion    \n",
    "(math_scored>=math_cutoff_marks) and (python_scored>=python_cutoff_marks) \n",
    "\n",
    "# answer false hai kyuki try statement ke false hone par new value register nahi hui so purani value use karni pad gyi jo ki 12367 di thi maine. and python ki last value EW3 thi. agar EW3 koi int type ka number hota toh fir true print hojata. just like the next example"
   ]
  },
  {
   "cell_type": "code",
   "execution_count": 31,
   "id": "c1e04f6a-2348-414f-88fb-ab7db2e83993",
   "metadata": {},
   "outputs": [
    {
     "name": "stdin",
     "output_type": "stream",
     "text": [
      "ENTER MARKS 500\n",
      "ENTER MARKS 100\n"
     ]
    },
    {
     "data": {
      "text/plain": [
       "True"
      ]
     },
     "execution_count": 31,
     "metadata": {},
     "output_type": "execute_result"
    }
   ],
   "source": [
    "math_cutoff_marks=50\n",
    "python_cutoff_marks=50\n",
    "\n",
    "# student marks\n",
    "try:\n",
    "    math_scored=int(input(\"ENTER MARKS\"))\n",
    "except:\n",
    "    print(\"VALID NUMBER DALO\")\n",
    "try:    \n",
    "    python_scored=int(input(\"ENTER MARKS\"))\n",
    "except:\n",
    "    print(\"VALID NUMBER DALO\")\n",
    "    \n",
    "#Admission condittion    \n",
    "(math_scored>=math_cutoff_marks) and (python_scored>=python_cutoff_marks) \n",
    "# iss bar kyuki dono int data type ki value hai and last AND condition fulfill horhi hai isiliye so the new INT VALUES get stored which meet the minimum admission criteria hence the answer is truth"
   ]
  },
  {
   "cell_type": "markdown",
   "id": "b2f7e1ee-8473-4428-ac18-bae7d25512b6",
   "metadata": {},
   "source": [
    "# Agar tumne kernel ko restart krdiya jupyter notebook mei then jo bhi purane stored variables honge wo delete hojayenge so after that if you try the same techinique I mentioned above in the preivous cell/block, the output results in an error\n",
    "\n",
    "\n"
   ]
  },
  {
   "cell_type": "code",
   "execution_count": 32,
   "id": "dfd2efa9-b77b-4ac7-8d64-5dc700b9403c",
   "metadata": {},
   "outputs": [],
   "source": [
    "# IF a line gives an error, the script stops at that point"
   ]
  },
  {
   "cell_type": "code",
   "execution_count": 33,
   "id": "2f92f534-46ce-468a-9e8f-cde395986158",
   "metadata": {},
   "outputs": [
    {
     "name": "stdout",
     "output_type": "stream",
     "text": [
      "prady\n",
      "hello\n"
     ]
    },
    {
     "ename": "ValueError",
     "evalue": "invalid literal for int() with base 10: 'me'",
     "output_type": "error",
     "traceback": [
      "\u001b[1;31m---------------------------------------------------------------------------\u001b[0m",
      "\u001b[1;31mValueError\u001b[0m                                Traceback (most recent call last)",
      "Cell \u001b[1;32mIn[33], line 3\u001b[0m\n\u001b[0;32m      1\u001b[0m \u001b[38;5;28mprint\u001b[39m(\u001b[38;5;124m\"\u001b[39m\u001b[38;5;124mprady\u001b[39m\u001b[38;5;124m\"\u001b[39m)\n\u001b[0;32m      2\u001b[0m \u001b[38;5;28mprint\u001b[39m(\u001b[38;5;124m\"\u001b[39m\u001b[38;5;124mhello\u001b[39m\u001b[38;5;124m\"\u001b[39m)\n\u001b[1;32m----> 3\u001b[0m \u001b[38;5;28mint\u001b[39m(\u001b[38;5;124m\"\u001b[39m\u001b[38;5;124mme\u001b[39m\u001b[38;5;124m\"\u001b[39m)\n\u001b[0;32m      4\u001b[0m \u001b[38;5;28mprint\u001b[39m(\u001b[38;5;124m\"\u001b[39m\u001b[38;5;124mLAL TAMATAR\u001b[39m\u001b[38;5;124m\"\u001b[39m)\n",
      "\u001b[1;31mValueError\u001b[0m: invalid literal for int() with base 10: 'me'"
     ]
    }
   ],
   "source": [
    "print(\"prady\")\n",
    "print(\"hello\")\n",
    "int(\"me\")\n",
    "print(\"LAL TAMATAR\")"
   ]
  },
  {
   "cell_type": "markdown",
   "id": "8f751bf2-cef7-423c-8832-9db745dcbd69",
   "metadata": {},
   "source": [
    "# in the above mentioned code, since the third line contained an error, ie, assigning a string, the data type of int which is not possible THEREFORE the entire process got terminated and the script stopped at the third line. THE FIRST 2 LINES DID GET EXECUTED BUT SINCE THE ENITRE PROGRAM COULD NOT BE ERROR FREE, THEY DIDNT GET PRINTED"
   ]
  },
  {
   "cell_type": "code",
   "execution_count": 39,
   "id": "39e00ecb-930f-4d6f-a797-3540aa4da816",
   "metadata": {},
   "outputs": [
    {
     "name": "stdin",
     "output_type": "stream",
     "text": [
      "ENTER MARKS qw\n"
     ]
    },
    {
     "name": "stdout",
     "output_type": "stream",
     "text": [
      "VALID NUMBER DALO\n",
      "You will get admission\n"
     ]
    }
   ],
   "source": [
    "math_cutoff_marks=50\n",
    "python_cutoff_marks=50\n",
    "\n",
    "# student marks\n",
    "try:\n",
    "    math_scored=int(input(\"ENTER MARKS\"))    \n",
    "    python_scored=int(input(\"ENTER MARKS\"))\n",
    "except:\n",
    "    print(\"VALID NUMBER DALO\")\n",
    "    \n",
    "#Admission condittion    \n",
    "if((math_scored>=math_cutoff_marks) and (python_scored>=python_cutoff_marks))== True:\n",
    "   print(\"You will get admission\")\n",
    "else:\n",
    "   print(\"No admission for you\")"
   ]
  },
  {
   "cell_type": "markdown",
   "id": "e4991bda-ed70-4be8-945a-f2cca39b2b32",
   "metadata": {},
   "source": [
    "# In the above example, the situation is almost exactly similar to the if else statement used in java.\n",
    "#in the example i have taken, I used an str data type input which is invalid and cannot be equal to an int data type therefore the program shifted directly to the else statement, skipping the IF statement"
   ]
  },
  {
   "cell_type": "code",
   "execution_count": 6,
   "id": "3e3a6de6-e6f8-4639-bacf-22d176bad767",
   "metadata": {},
   "outputs": [
    {
     "name": "stdin",
     "output_type": "stream",
     "text": [
      "ENTER MARKS 50\n",
      "ENTER MARKS 50\n"
     ]
    },
    {
     "name": "stdout",
     "output_type": "stream",
     "text": [
      "You will get admission\n"
     ]
    }
   ],
   "source": [
    "math_cutoff_marks=50\n",
    "python_cutoff_marks=50\n",
    "\n",
    " #student marks\n",
    "try:\n",
    "    math_scored=int(input(\"ENTER MARKS\"))    \n",
    "    python_scored=int(input(\"ENTER MARKS\"))\n",
    "except:\n",
    "    print(\"VALID NUMBER DALO\")\n",
    "    \n",
    "#Admission condittion  \n",
    "if((math_scored>100) and (python_scored>100))== False:\n",
    "    if((math_scored>=math_cutoff_marks) and (python_scored>=python_cutoff_marks))== True:\n",
    "        print(\"You will get admission\")\n",
    "    else:\n",
    "        print(\"NO admission for you\")\n",
    "else:\n",
    "   print(\"Invalid entry\")\n",
    " #this type of a loop is called NESTED loop"
   ]
  },
  {
   "cell_type": "code",
   "execution_count": 1,
   "id": "abd8f780-de4d-4016-8630-f12d3f571d54",
   "metadata": {},
   "outputs": [
    {
     "data": {
      "text/plain": [
       "str"
      ]
     },
     "execution_count": 1,
     "metadata": {},
     "output_type": "execute_result"
    }
   ],
   "source": [
    "test_string=\"this is a pyhton class\"\n",
    "type(test_string)"
   ]
  },
  {
   "cell_type": "code",
   "execution_count": 6,
   "id": "82ccad8f-db95-4ad9-b906-e1ecd725925e",
   "metadata": {},
   "outputs": [
    {
     "data": {
      "text/plain": [
       "False"
      ]
     },
     "execution_count": 6,
     "metadata": {},
     "output_type": "execute_result"
    }
   ],
   "source": [
    "ax=\"this is a pyhton class \"\n",
    "ax== test_string"
   ]
  },
  {
   "cell_type": "code",
   "execution_count": 7,
   "id": "83b41424-9e45-46d9-9274-2b3dabce67b7",
   "metadata": {},
   "outputs": [
    {
     "name": "stdout",
     "output_type": "stream",
     "text": [
      "<class 'str'>\n"
     ]
    }
   ],
   "source": [
    "print(type(test_string))"
   ]
  },
  {
   "cell_type": "code",
   "execution_count": 13,
   "id": "c104b95e-995f-40c4-826a-016b907a207c",
   "metadata": {},
   "outputs": [
    {
     "data": {
      "text/plain": [
       "12"
      ]
     },
     "execution_count": 13,
     "metadata": {},
     "output_type": "execute_result"
    }
   ],
   "source": [
    "test_string.find(\"ht\")"
   ]
  },
  {
   "cell_type": "markdown",
   "id": "3d33e13e-6e7e-4968-9d89-32b373411887",
   "metadata": {},
   "source": [
    "# Pressing tab right after \" test_string. \" opens a snippet of methods we can use associated with the string"
   ]
  },
  {
   "cell_type": "markdown",
   "id": "f04a3283-ee64-4f35-916a-3af8ecbfa9ea",
   "metadata": {},
   "source": [
    "# using shift + tab after selecing a method helps describe the usage and the type of method"
   ]
  },
  {
   "cell_type": "code",
   "execution_count": 16,
   "id": "528da44f-00ad-484d-9d79-db5d171cd1cc",
   "metadata": {},
   "outputs": [
    {
     "name": "stdout",
     "output_type": "stream",
     "text": [
      "<class 'int'>\n"
     ]
    }
   ],
   "source": [
    "H=9\n",
    "print(type(H))\n",
    "# H here is an object of INT class therefore we can use the .+TAB shortcut on this"
   ]
  },
  {
   "cell_type": "markdown",
   "id": "6b96fa3f-2543-4848-bbca-d42398cb6123",
   "metadata": {},
   "source": [
    "# LISTS"
   ]
  },
  {
   "cell_type": "code",
   "execution_count": 19,
   "id": "98bf3543-4bde-45de-b425-3d93a186126e",
   "metadata": {},
   "outputs": [
    {
     "name": "stdout",
     "output_type": "stream",
     "text": [
      "<class 'list'>\n"
     ]
    }
   ],
   "source": [
    "name=['me','you','he','she']\n",
    "print(type(name))"
   ]
  },
  {
   "cell_type": "code",
   "execution_count": 25,
   "id": "353fe28b-0082-49bf-a1fc-81814232fb87",
   "metadata": {},
   "outputs": [
    {
     "data": {
      "text/plain": [
       "2"
      ]
     },
     "execution_count": 25,
     "metadata": {},
     "output_type": "execute_result"
    }
   ],
   "source": [
    "name.index(\"he\")\n",
    "# YOU can use TAB shortcuts for list as well"
   ]
  },
  {
   "cell_type": "code",
   "execution_count": 32,
   "id": "5080617e-2dcb-46a6-99cc-0e86ae58faa0",
   "metadata": {},
   "outputs": [
    {
     "data": {
      "text/plain": [
       "'me'"
      ]
     },
     "execution_count": 32,
     "metadata": {},
     "output_type": "execute_result"
    }
   ],
   "source": [
    "name[-4]"
   ]
  },
  {
   "cell_type": "code",
   "execution_count": 51,
   "id": "9de4b822-20dd-4f63-ab92-0ec60a346e5d",
   "metadata": {},
   "outputs": [
    {
     "data": {
      "text/plain": [
       "'she'"
      ]
     },
     "execution_count": 51,
     "metadata": {},
     "output_type": "execute_result"
    }
   ],
   "source": [
    "n1=[\"me\",\"you\",\"he\",\"she\",[\"they\",\"them\"]]\n",
    "n1[3]"
   ]
  },
  {
   "cell_type": "code",
   "execution_count": 46,
   "id": "275f6c57-c051-42a8-bfeb-eb410b3f5358",
   "metadata": {},
   "outputs": [
    {
     "data": {
      "text/plain": [
       "['they', 'them']"
      ]
     },
     "execution_count": 46,
     "metadata": {},
     "output_type": "execute_result"
    }
   ],
   "source": [
    "n1[4]"
   ]
  },
  {
   "cell_type": "code",
   "execution_count": 47,
   "id": "21f87ba2-94a2-4d8f-a96c-8720f73f25a9",
   "metadata": {},
   "outputs": [
    {
     "data": {
      "text/plain": [
       "'them'"
      ]
     },
     "execution_count": 47,
     "metadata": {},
     "output_type": "execute_result"
    }
   ],
   "source": [
    "n1[4][1]"
   ]
  },
  {
   "cell_type": "code",
   "execution_count": 48,
   "id": "b0a0a835-f749-4560-8003-ba370ea5283e",
   "metadata": {},
   "outputs": [
    {
     "data": {
      "text/plain": [
       "'they'"
      ]
     },
     "execution_count": 48,
     "metadata": {},
     "output_type": "execute_result"
    }
   ],
   "source": [
    "n1[4][0]"
   ]
  },
  {
   "cell_type": "code",
   "execution_count": 49,
   "id": "9ca5285f-91ee-474e-9b4f-69421de704b5",
   "metadata": {},
   "outputs": [],
   "source": [
    "n1.insert(3,\"hehe\")"
   ]
  },
  {
   "cell_type": "code",
   "execution_count": 50,
   "id": "909ecd6e-c910-4d49-8bef-182fa4df4e18",
   "metadata": {},
   "outputs": [
    {
     "data": {
      "text/plain": [
       "['me', 'you', 'he', 'hehe', 'she', ['they', 'them']]"
      ]
     },
     "execution_count": 50,
     "metadata": {},
     "output_type": "execute_result"
    }
   ],
   "source": [
    "n1"
   ]
  },
  {
   "cell_type": "code",
   "execution_count": 55,
   "id": "7c1be532-94e7-4a2f-9e67-a2a265442508",
   "metadata": {},
   "outputs": [
    {
     "data": {
      "text/plain": [
       "['me', 'you', 'he', 'she', 'hehehe', 'hehehe', 'hehehe', ['they', 'them']]"
      ]
     },
     "execution_count": 55,
     "metadata": {},
     "output_type": "execute_result"
    }
   ],
   "source": [
    "n1.insert(4,\"hehehe\")\n",
    "n1"
   ]
  },
  {
   "cell_type": "code",
   "execution_count": 56,
   "id": "59cda41b-3828-4b97-846a-176da81259a8",
   "metadata": {},
   "outputs": [],
   "source": [
    "# printed 2 times as point 4 in list has 2 values stroed"
   ]
  },
  {
   "cell_type": "code",
   "execution_count": null,
   "id": "c5f8836c-71c5-44da-90ca-75d20aea1008",
   "metadata": {},
   "outputs": [],
   "source": []
  }
 ],
 "metadata": {
  "kernelspec": {
   "display_name": "Python [conda env:base] *",
   "language": "python",
   "name": "conda-base-py"
  },
  "language_info": {
   "codemirror_mode": {
    "name": "ipython",
    "version": 3
   },
   "file_extension": ".py",
   "mimetype": "text/x-python",
   "name": "python",
   "nbconvert_exporter": "python",
   "pygments_lexer": "ipython3",
   "version": "3.13.5"
  }
 },
 "nbformat": 4,
 "nbformat_minor": 5
}
