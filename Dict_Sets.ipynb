{
 "cells": [
  {
   "cell_type": "markdown",
   "id": "d8742f17",
   "metadata": {},
   "source": [
    "# Dictionary "
   ]
  },
  {
   "cell_type": "markdown",
   "id": "1e750bd2",
   "metadata": {},
   "source": [
    "### it is used to store the data of the user and fetch the data from the database using keys"
   ]
  },
  {
   "cell_type": "code",
   "execution_count": 53,
   "id": "1d99ee8b",
   "metadata": {},
   "outputs": [
    {
     "data": {
      "text/plain": [
       "dict"
      ]
     },
     "execution_count": 53,
     "metadata": {},
     "output_type": "execute_result"
    }
   ],
   "source": [
    "\n",
    "#creating a dictionary\n",
    "ages= {\"aman\":25, \"nama\":27.5, \"maan\":30}\n",
    "type(ages)\n"
   ]
  },
  {
   "cell_type": "code",
   "execution_count": 13,
   "id": "092084e6",
   "metadata": {},
   "outputs": [
    {
     "name": "stdout",
     "output_type": "stream",
     "text": [
      "<class 'dict'>\n"
     ]
    }
   ],
   "source": [
    "print(type(ages))"
   ]
  },
  {
   "cell_type": "markdown",
   "id": "37f744f6",
   "metadata": {},
   "source": []
  },
  {
   "cell_type": "code",
   "execution_count": 14,
   "id": "21e4b5c2",
   "metadata": {},
   "outputs": [
    {
     "data": {
      "text/plain": [
       "25"
      ]
     },
     "execution_count": 14,
     "metadata": {},
     "output_type": "execute_result"
    }
   ],
   "source": [
    "#fetch a value\n",
    "ages[\"aman\"] "
   ]
  },
  {
   "cell_type": "code",
   "execution_count": 42,
   "id": "94f1e032",
   "metadata": {},
   "outputs": [
    {
     "data": {
      "text/plain": [
       "25"
      ]
     },
     "execution_count": 42,
     "metadata": {},
     "output_type": "execute_result"
    }
   ],
   "source": [
    "ages.get(\"aman\")"
   ]
  },
  {
   "cell_type": "code",
   "execution_count": 15,
   "id": "cf70cd3b",
   "metadata": {},
   "outputs": [
    {
     "data": {
      "text/plain": [
       "52.5"
      ]
     },
     "execution_count": 15,
     "metadata": {},
     "output_type": "execute_result"
    }
   ],
   "source": [
    "ages[\"aman\"] + ages[\"nama\"] \n",
    "# you can perform operations on the values fetched from the dictionary"
   ]
  },
  {
   "cell_type": "code",
   "execution_count": 16,
   "id": "6b96d4b7",
   "metadata": {},
   "outputs": [
    {
     "data": {
      "text/plain": [
       "3"
      ]
     },
     "execution_count": 16,
     "metadata": {},
     "output_type": "execute_result"
    }
   ],
   "source": [
    "#you can use fuctions like len() to get the number of items in the dictionary\n",
    "len(ages)"
   ]
  },
  {
   "cell_type": "code",
   "execution_count": 21,
   "id": "ee24f5df",
   "metadata": {},
   "outputs": [
    {
     "data": {
      "text/plain": [
       "dict_keys(['aman', 'nama', 'maan'])"
      ]
     },
     "execution_count": 21,
     "metadata": {},
     "output_type": "execute_result"
    }
   ],
   "source": [
    "#Use TAB to navigate through the functions and methods available for the dictionary\n",
    "#Use SHIFT + TAB to see the documentation for the function or method\n",
    "ages.keys()"
   ]
  },
  {
   "cell_type": "code",
   "execution_count": 22,
   "id": "1562f79f",
   "metadata": {},
   "outputs": [],
   "source": [
    "ages.clear()"
   ]
  },
  {
   "cell_type": "code",
   "execution_count": 23,
   "id": "beab8f85",
   "metadata": {},
   "outputs": [
    {
     "data": {
      "text/plain": [
       "{}"
      ]
     },
     "execution_count": 23,
     "metadata": {},
     "output_type": "execute_result"
    }
   ],
   "source": [
    "ages"
   ]
  },
  {
   "cell_type": "code",
   "execution_count": 27,
   "id": "06be55de",
   "metadata": {},
   "outputs": [
    {
     "data": {
      "text/plain": [
       "dict_values([25, 27.5, 30])"
      ]
     },
     "execution_count": 27,
     "metadata": {},
     "output_type": "execute_result"
    }
   ],
   "source": [
    "ages.values() #I had to execute thE DICTIONARY AGAIN to see the values in the dictionary after clearing it in the previous cell"
   ]
  },
  {
   "cell_type": "code",
   "execution_count": 55,
   "id": "811559f9",
   "metadata": {},
   "outputs": [
    {
     "data": {
      "text/plain": [
       "100"
      ]
     },
     "execution_count": 55,
     "metadata": {},
     "output_type": "execute_result"
    }
   ],
   "source": [
    "ages.setdefault(\"aman\", 30) #This will NOT change the value of \"aman\" as it already exists in the dictionary\n",
    "ages.setdefault(\"new_key\", 100) #This will add a new key-value pair to the dictionary"
   ]
  },
  {
   "cell_type": "code",
   "execution_count": 32,
   "id": "b1349f18",
   "metadata": {},
   "outputs": [
    {
     "data": {
      "text/plain": [
       "{'aman': 25, 'nama': 27.5, 'maan': 30, 'new_key': 100}"
      ]
     },
     "execution_count": 32,
     "metadata": {},
     "output_type": "execute_result"
    }
   ],
   "source": [
    "ages"
   ]
  },
  {
   "cell_type": "code",
   "execution_count": 33,
   "id": "83d1a7d9",
   "metadata": {},
   "outputs": [
    {
     "data": {
      "text/plain": [
       "{'aman': 25, 'nama': 27.5, 'maan': 30, 'new_key': 100}"
      ]
     },
     "execution_count": 33,
     "metadata": {},
     "output_type": "execute_result"
    }
   ],
   "source": [
    "ages_copy=ages.copy()\n",
    "ages_copy"
   ]
  },
  {
   "cell_type": "code",
   "execution_count": 34,
   "id": "eb316273",
   "metadata": {},
   "outputs": [
    {
     "data": {
      "text/plain": [
       "{'aman': 25, 'nama': 27.5, 'maan': 30, 'new_key': 100}"
      ]
     },
     "execution_count": 34,
     "metadata": {},
     "output_type": "execute_result"
    }
   ],
   "source": [
    "ages_copy=ages\n",
    "ages_copy"
   ]
  },
  {
   "cell_type": "code",
   "execution_count": 41,
   "id": "eab05a4d",
   "metadata": {},
   "outputs": [
    {
     "data": {
      "text/plain": [
       "{'a': None, 'b': None, 'c': None, 'd': None, 'e': None}"
      ]
     },
     "execution_count": 41,
     "metadata": {},
     "output_type": "execute_result"
    }
   ],
   "source": [
    "job_titles=[\"a\",\"b\",\"c\",'d','e']\n",
    "job_titles_dict=dict()\n",
    "job_titles_dict.fromkeys(job_titles) #This will create a dictionary with the keys from the list and values set to None as no value is provided\n"
   ]
  },
  {
   "cell_type": "code",
   "execution_count": 40,
   "id": "4aaee143",
   "metadata": {},
   "outputs": [
    {
     "data": {
      "text/plain": [
       "{'a': 'default_value',\n",
       " 'b': 'default_value',\n",
       " 'c': 'default_value',\n",
       " 'd': 'default_value',\n",
       " 'e': 'default_value'}"
      ]
     },
     "execution_count": 40,
     "metadata": {},
     "output_type": "execute_result"
    }
   ],
   "source": [
    "job_titles_dict.fromkeys(job_titles, \"default_value\") #This will create a dictionary with the keys from the list and values set to \"default_value\""
   ]
  },
  {
   "cell_type": "code",
   "execution_count": 46,
   "id": "9b1a0f87",
   "metadata": {},
   "outputs": [
    {
     "data": {
      "text/plain": [
       "dict_items([('aman', 25), ('nama', 27.5), ('maan', 30), ('new_key', 100)])"
      ]
     },
     "execution_count": 46,
     "metadata": {},
     "output_type": "execute_result"
    }
   ],
   "source": [
    "ages.items()\n",
    "#gives a view object that displays a list of a dictionary's key-value tuple pairs"
   ]
  },
  {
   "cell_type": "code",
   "execution_count": 49,
   "id": "8d8f66b4",
   "metadata": {},
   "outputs": [
    {
     "data": {
      "text/plain": [
       "{'aman': 35, 'nama': 27.5, 'maan': 30, 'new_key': 100}"
      ]
     },
     "execution_count": 49,
     "metadata": {},
     "output_type": "execute_result"
    }
   ],
   "source": [
    "ages.update({\"aman\": 35}) #This will update the value of \"aman\" to 35\n",
    "ages"
   ]
  },
  {
   "cell_type": "code",
   "execution_count": 50,
   "id": "9d67fa7f",
   "metadata": {},
   "outputs": [
    {
     "data": {
      "text/plain": [
       "35"
      ]
     },
     "execution_count": 50,
     "metadata": {},
     "output_type": "execute_result"
    }
   ],
   "source": [
    "ages.setdefault(\"aman\", 30) #This will not change the value of \"aman\" as it already exists in the dictionary"
   ]
  },
  {
   "cell_type": "code",
   "execution_count": 56,
   "id": "1325a0e9",
   "metadata": {},
   "outputs": [
    {
     "data": {
      "text/plain": [
       "{'aman': 25, 'nama': 27.5, 'maan': 30}"
      ]
     },
     "execution_count": 56,
     "metadata": {},
     "output_type": "execute_result"
    }
   ],
   "source": [
    "ages.pop('new_key') #This will remove the key-value pair with key 'new_key' from the dictionary\n",
    "ages"
   ]
  },
  {
   "cell_type": "code",
   "execution_count": null,
   "id": "ef400178",
   "metadata": {},
   "outputs": [],
   "source": []
  },
  {
   "cell_type": "code",
   "execution_count": null,
   "id": "2a1f25f2",
   "metadata": {},
   "outputs": [],
   "source": []
  }
 ],
 "metadata": {
  "kernelspec": {
   "display_name": "base",
   "language": "python",
   "name": "python3"
  },
  "language_info": {
   "codemirror_mode": {
    "name": "ipython",
    "version": 3
   },
   "file_extension": ".py",
   "mimetype": "text/x-python",
   "name": "python",
   "nbconvert_exporter": "python",
   "pygments_lexer": "ipython3",
   "version": "3.13.5"
  }
 },
 "nbformat": 4,
 "nbformat_minor": 5
}
