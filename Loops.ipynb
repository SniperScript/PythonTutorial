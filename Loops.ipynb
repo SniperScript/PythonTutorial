{
 "cells": [
  {
   "cell_type": "code",
   "execution_count": 1,
   "id": "715e3d91",
   "metadata": {},
   "outputs": [
    {
     "name": "stdout",
     "output_type": "stream",
     "text": [
      "Hello World\n"
     ]
    }
   ],
   "source": [
    "print(\"Hello World\")"
   ]
  },
  {
   "cell_type": "code",
   "execution_count": 2,
   "id": "6880f339",
   "metadata": {},
   "outputs": [
    {
     "data": {
      "text/plain": [
       "int"
      ]
     },
     "execution_count": 2,
     "metadata": {},
     "output_type": "execute_result"
    }
   ],
   "source": [
    "a=1221\n",
    "type(a)"
   ]
  },
  {
   "cell_type": "code",
   "execution_count": 1,
   "id": "ec5240c3",
   "metadata": {},
   "outputs": [],
   "source": [
    "x=input(\"x:\")"
   ]
  },
  {
   "cell_type": "code",
   "execution_count": 2,
   "id": "e445f0c1",
   "metadata": {},
   "outputs": [
    {
     "data": {
      "text/plain": [
       "'hello'"
      ]
     },
     "execution_count": 2,
     "metadata": {},
     "output_type": "execute_result"
    }
   ],
   "source": [
    "x"
   ]
  },
  {
   "cell_type": "code",
   "execution_count": 5,
   "id": "e0ed27bc",
   "metadata": {},
   "outputs": [
    {
     "name": "stdout",
     "output_type": "stream",
     "text": [
      "Not eligible for loan\n"
     ]
    }
   ],
   "source": [
    "high_income = True\n",
    "student = False \n",
    "credit = False\n",
    "if high_income and credit or  student:\n",
    "    print(\"Eligible for loan\")\n",
    "else:\n",
    "    print(\"Not eligible for loan\")\n"
   ]
  },
  {
   "cell_type": "code",
   "execution_count": 6,
   "id": "4b6a81a0",
   "metadata": {},
   "outputs": [
    {
     "name": "stdout",
     "output_type": "stream",
     "text": [
      "Eligible for loan\n"
     ]
    }
   ],
   "source": [
    "high_income = True\n",
    "student = False \n",
    "credit = False\n",
    "if high_income and credit or not  student:\n",
    "    print(\"Eligible for loan\")\n",
    "else:\n",
    "    print(\"Not eligible for loan\")\n"
   ]
  },
  {
   "cell_type": "markdown",
   "id": "95ab6c77",
   "metadata": {},
   "source": [
    "# Hllo "
   ]
  },
  {
   "cell_type": "markdown",
   "id": "14b99d01",
   "metadata": {},
   "source": [
    "### hi"
   ]
  },
  {
   "cell_type": "markdown",
   "id": "bc9c20b1",
   "metadata": {},
   "source": [
    "###### hei\n"
   ]
  },
  {
   "cell_type": "code",
   "execution_count": 11,
   "id": "ffc8e0ba",
   "metadata": {},
   "outputs": [
    {
     "name": "stdout",
     "output_type": "stream",
     "text": [
      "Not eligible for loan\n"
     ]
    }
   ],
   "source": [
    "high_income = False\n",
    "credit= \"good\"\n",
    "if (high_income and credit) == \"good\":\n",
    "    print(\"Eligible for loan\")\n",
    "else:\n",
    "    print(\"Not eligible for loan\")\n",
    "    # Basically if we have brackets in if condition while having a boolean variable in the brackets, boolean will work as its inputted value is designed and the other variable which is str here will take the value on the other side of the == operator"
   ]
  },
  {
   "cell_type": "code",
   "execution_count": 23,
   "id": "3be092d0",
   "metadata": {},
   "outputs": [
    {
     "name": "stdout",
     "output_type": "stream",
     "text": [
      "Input any value for True and leave blank for False\n",
      "you are\n",
      "Not eligible for loan\n",
      "True False\n"
     ]
    }
   ],
   "source": [
    "print(\"Input any value for True and leave blank for False\")\n",
    "print(\"you are\")\n",
    "high_income =  bool(input(\"high_income:\"))\n",
    "good_credit= bool(input(\"good_credit:\"))\n",
    "if high_income and good_credit:\n",
    "    print(\"Eligible for loan\")\n",
    "else:\n",
    "    print(\"Not eligible for loan\")\n",
    "print(high_income, good_credit)\n",
    "          #Since BOTH were not True, output was False"
   ]
  },
  {
   "cell_type": "code",
   "execution_count": 26,
   "id": "af9af697",
   "metadata": {},
   "outputs": [
    {
     "name": "stdout",
     "output_type": "stream",
     "text": [
      "Input any value for True and leave blank for False!\n",
      "You are\n",
      "Not eligible for loan\n",
      "True False\n"
     ]
    }
   ],
   "source": [
    "print(\"Input any value for True and leave blank for False!\")\n",
    "print(\"You are\")\n",
    "high_income =  bool(input(\"high_income:\"))\n",
    "good_credit= bool(input(\"good_credit:\"))\n",
    "if high_income and good_credit:\n",
    "    print(\"Eligible for loan\")\n",
    "else:\n",
    "    print(\"Not eligible for loan\")\n",
    "print(high_income, good_credit)"
   ]
  },
  {
   "cell_type": "markdown",
   "id": "cdb4db8d",
   "metadata": {},
   "source": [
    "# LOOPS FOR PYTHON\n",
    "There are two main types of loops in Python: for loops and while loops.\n",
    "While loops continue to execute as long as a specified condition is true, while for loops iterate over a sequence (like a list, tuple, dictionary, set, or string) or repeat a block of code a specific number of times.\n",
    "For loops are used when you want to iterate over a sequence (like a list, tuple, dictionary, set, or string) or to repeat a block of code a specific number of times."
   ]
  },
  {
   "cell_type": "markdown",
   "id": "17f6894d",
   "metadata": {},
   "source": [
    "###FOR LOOPS"
   ]
  },
  {
   "cell_type": "code",
   "execution_count": 37,
   "id": "cff95a1a",
   "metadata": {},
   "outputs": [
    {
     "name": "stdout",
     "output_type": "stream",
     "text": [
      "attempt\n",
      "attempt\n",
      "attempt\n"
     ]
    }
   ],
   "source": [
    "for number in range(3):\n",
    "  print(\"attempt\")\n",
    "    #basic for loop to print attempt 3 times. REMEMBER we need to give atleast 2 space gaps before the print statement to make it part of the for loop"
   ]
  },
  {
   "cell_type": "code",
   "execution_count": 39,
   "id": "1883e12a",
   "metadata": {},
   "outputs": [
    {
     "name": "stdout",
     "output_type": "stream",
     "text": [
      "attempt 0\n",
      "attempt 1\n",
      "attempt 2\n"
     ]
    }
   ],
   "source": [
    "for number in range(3):\n",
    "  print(\"attempt\", number)\n",
    "  #prints number along with the attempt"
   ]
  },
  {
   "cell_type": "code",
   "execution_count": 41,
   "id": "92712e97",
   "metadata": {},
   "outputs": [
    {
     "name": "stdout",
     "output_type": "stream",
     "text": [
      "attempt 1\n",
      "attempt 2\n",
      "attempt 3\n"
     ]
    }
   ],
   "source": [
    "for number in range(3):\n",
    "  print(\"attempt\", number + 1)\n",
    "  #more user friendly way to print attempt number"
   ]
  },
  {
   "cell_type": "code",
   "execution_count": 44,
   "id": "370b7869",
   "metadata": {},
   "outputs": [
    {
     "name": "stdout",
     "output_type": "stream",
     "text": [
      "attempt 1 .\n",
      "attempt 2 ..\n",
      "attempt 3 ...\n"
     ]
    }
   ],
   "source": [
    "for number in range(3):\n",
    "  print(\"attempt\", number + 1, (number + 1) * \".\")\n",
    "  #creative"
   ]
  },
  {
   "cell_type": "code",
   "execution_count": 45,
   "id": "f1f44b7f",
   "metadata": {},
   "outputs": [
    {
     "name": "stdout",
     "output_type": "stream",
     "text": [
      "attempt 1 .\n",
      "attempt 2 ..\n",
      "attempt 3 ...\n"
     ]
    }
   ],
   "source": [
    "for number in range(1,4):\n",
    "  print(\"attempt\", number, (number) * \".\")\n",
    "  #loop starts from 1 and ends at 3, so it will print attempt 1, attempt 2 and attempt 3. it does not include the last digit in the range"
   ]
  },
  {
   "cell_type": "code",
   "execution_count": 49,
   "id": "136b1fb8",
   "metadata": {},
   "outputs": [
    {
     "name": "stdout",
     "output_type": "stream",
     "text": [
      "attempt 1 .\n",
      "attempt 4 ....\n",
      "attempt 7 .......\n"
     ]
    }
   ],
   "source": [
    "for number in range(1,10,3):\n",
    "  print(\"attempt\", number, (number) * \".\")\n",
    "  # starts from one and goes till 10-1=9. prints attempts at a gap of 3, so it will print attempt 1, attempt 4, attempt 7"
   ]
  },
  {
   "cell_type": "code",
   "execution_count": 50,
   "id": "5791ac83",
   "metadata": {},
   "outputs": [
    {
     "name": "stdout",
     "output_type": "stream",
     "text": [
      "attempt 1 .\n",
      "attempt 3 ...\n",
      "attempt 5 .....\n",
      "attempt 7 .......\n",
      "attempt 9 .........\n"
     ]
    }
   ],
   "source": [
    "for number in range(1,10,2):\n",
    "  print(\"attempt\", number, (number) * \".\")\n",
    "  # starts from one and goes till 10-1=9. prints attempts at a gap of 2, so it will print attempt 1, attempt 3, attempt 5, attempt 7, attempt 9"
   ]
  },
  {
   "cell_type": "code",
   "execution_count": 57,
   "id": "97a5f9fa",
   "metadata": {},
   "outputs": [
    {
     "name": "stdout",
     "output_type": "stream",
     "text": [
      "attempt 0\n",
      "Successful\n"
     ]
    }
   ],
   "source": [
    "successful = True\n",
    "for number in range(3):\n",
    "  print(\"attempt\", number)\n",
    "  if successful: #If within for loop, if successful is True, it will print Successful and break the loop\n",
    "    print(\"Successful\")\n",
    "    break #Breaks the loop if successful is True\n",
    "  print(\"this sentence is printed incase of failure\")\n"
   ]
  },
  {
   "cell_type": "code",
   "execution_count": 63,
   "id": "e6c6afcd",
   "metadata": {},
   "outputs": [
    {
     "name": "stdout",
     "output_type": "stream",
     "text": [
      "attempt 1\n",
      "attempt 2\n",
      "attempt 3\n",
      "attempted 3 times and failed\n"
     ]
    }
   ],
   "source": [
    "successful = False\n",
    "for number in range(1,4):\n",
    "  print(\"attempt\", number)\n",
    "  if successful: #If within for loop, if successful is True, it will print Successful and break the loop\n",
    "    print(\"Successful\")\n",
    "    break #Breaks the loop if successful is True\n",
    "else: #this is called a for else loop, it will run if the for loop is not broken\n",
    "  print(\"attempted 3 times and failed\")"
   ]
  },
  {
   "cell_type": "code",
   "execution_count": 64,
   "id": "03d19052",
   "metadata": {},
   "outputs": [
    {
     "name": "stdout",
     "output_type": "stream",
     "text": [
      "attempt 1\n",
      "Successful\n"
     ]
    }
   ],
   "source": [
    "successful = True\n",
    "for number in range(1,4):\n",
    "  print(\"attempt\", number)\n",
    "  if successful: #If within for loop, if successful is True, it will print Successful and break the loop\n",
    "    print(\"Successful\")\n",
    "    break #Breaks the loop if successful is True\n",
    "else: #this is called a for else loop, it will run if the for loop is not broken\n",
    "  print(\"attempted 3 times and failed\")"
   ]
  },
  {
   "cell_type": "code",
   "execution_count": 65,
   "id": "90debf4b",
   "metadata": {},
   "outputs": [
    {
     "name": "stdout",
     "output_type": "stream",
     "text": [
      "x: 0, y: 0\n",
      "x: 0, y: 1\n",
      "x: 0, y: 2\n",
      "x: 1, y: 0\n",
      "x: 1, y: 1\n",
      "x: 1, y: 2\n",
      "x: 2, y: 0\n",
      "x: 2, y: 1\n",
      "x: 2, y: 2\n",
      "x: 3, y: 0\n",
      "x: 3, y: 1\n",
      "x: 3, y: 2\n",
      "x: 4, y: 0\n",
      "x: 4, y: 1\n",
      "x: 4, y: 2\n"
     ]
    }
   ],
   "source": [
    "for x in range(5): # Nested for loop example\n",
    "    for y in range(3):\n",
    "        print(f\"x: {x}, y: {y}\")\n",
    " \n"
   ]
  },
  {
   "cell_type": "code",
   "execution_count": 68,
   "id": "65a36489",
   "metadata": {},
   "outputs": [
    {
     "name": "stdout",
     "output_type": "stream",
     "text": [
      "(0,0)\n",
      "(0,1)\n",
      "(0,2)\n",
      "(1,0)\n",
      "(1,1)\n",
      "(1,2)\n",
      "(2,0)\n",
      "(2,1)\n",
      "(2,2)\n",
      "(3,0)\n",
      "(3,1)\n",
      "(3,2)\n",
      "(4,0)\n",
      "(4,1)\n",
      "(4,2)\n"
     ]
    }
   ],
   "source": [
    "for x in range(5): #nested for loops example used to print coordinates\n",
    "    for y in range(3):\n",
    "        print(f\"({x},{y})\")"
   ]
  },
  {
   "cell_type": "code",
   "execution_count": 69,
   "id": "113ead38",
   "metadata": {},
   "outputs": [
    {
     "name": "stdout",
     "output_type": "stream",
     "text": [
      "<class 'range'>\n"
     ]
    }
   ],
   "source": [
    "print(type(range(5)))"
   ]
  },
  {
   "cell_type": "markdown",
   "id": "01c86cd7",
   "metadata": {},
   "source": [
    "### range() is iterable that means it can be used in a for loop to iterate over a sequence of numbers. It generates numbers starting from the first argument (default is 0) up to but not including the second argument, with an optional step value as the third argument.\n",
    "###### It is commonly used for looping a specific number of times in for loops."
   ]
  },
  {
   "cell_type": "code",
   "execution_count": 71,
   "id": "d512e11b",
   "metadata": {},
   "outputs": [
    {
     "name": "stdout",
     "output_type": "stream",
     "text": [
      "p\n",
      "y\n",
      "t\n",
      "h\n",
      "o\n",
      "n\n"
     ]
    }
   ],
   "source": [
    "for x in \"python\": # Iterating over a string. prints each character in the string separately\n",
    "    print(x)"
   ]
  },
  {
   "cell_type": "code",
   "execution_count": 75,
   "id": "c472c4a6",
   "metadata": {},
   "outputs": [
    {
     "name": "stdout",
     "output_type": "stream",
     "text": [
      "p y t h o n "
     ]
    }
   ],
   "source": [
    "for x in \"python\": \n",
    "    print(x, end=\" \")  # Using end=\" \" to print characters on the same line with a space in between"
   ]
  },
  {
   "cell_type": "code",
   "execution_count": 76,
   "id": "119d1b43",
   "metadata": {},
   "outputs": [
    {
     "name": "stdout",
     "output_type": "stream",
     "text": [
      "python"
     ]
    }
   ],
   "source": [
    "for x in \"python\": \n",
    "    print(x, end=\"\") #I removed the space to print characters without any space in between"
   ]
  },
  {
   "cell_type": "code",
   "execution_count": 89,
   "id": "323075cb",
   "metadata": {},
   "outputs": [
    {
     "name": "stdout",
     "output_type": "stream",
     "text": [
      "1\n",
      "2\n",
      "3\n",
      "4\n"
     ]
    }
   ],
   "source": [
    "for x in [1,2,3,4]:\n",
    "    print(x)"
   ]
  },
  {
   "cell_type": "code",
   "execution_count": 90,
   "id": "8ef93889",
   "metadata": {},
   "outputs": [
    {
     "name": "stdout",
     "output_type": "stream",
     "text": [
      "1 2 3 4 "
     ]
    }
   ],
   "source": [
    "for x in [1,2,3,4]:\n",
    "    print(x, end= \" \")  # Using end=\" \" to print numbers on the same line with a space in between"
   ]
  },
  {
   "cell_type": "code",
   "execution_count": 93,
   "id": "8179b217",
   "metadata": {},
   "outputs": [
    {
     "name": "stdout",
     "output_type": "stream",
     "text": [
      "2\n",
      "3\n",
      "4\n",
      "5\n"
     ]
    }
   ],
   "source": [
    "for x in [1,2,3,4]: \n",
    "    print(x+1) #You can run operations on this variable x as it is an int type"
   ]
  },
  {
   "cell_type": "code",
   "execution_count": 94,
   "id": "a0a8d82a",
   "metadata": {},
   "outputs": [
    {
     "name": "stdout",
     "output_type": "stream",
     "text": [
      "milk\n",
      "bread\n",
      "eggs\n"
     ]
    }
   ],
   "source": [
    "shopping_cart = [\"milk\", \"bread\", \"eggs\"]\n",
    "# Iterating over a list of items in a shopping cart\n",
    "for x in shopping_cart:\n",
    "    print(x)"
   ]
  },
  {
   "cell_type": "markdown",
   "id": "60ae0d57",
   "metadata": {},
   "source": [
    "###WHILE LOOPS"
   ]
  },
  {
   "cell_type": "code",
   "execution_count": 97,
   "id": "7ac7cc88",
   "metadata": {},
   "outputs": [
    {
     "name": "stdout",
     "output_type": "stream",
     "text": [
      "100\n",
      "99\n",
      "98\n",
      "97\n",
      "96\n",
      "95\n",
      "94\n",
      "93\n",
      "92\n",
      "91\n",
      "90\n",
      "89\n",
      "88\n",
      "87\n",
      "86\n",
      "85\n",
      "84\n",
      "83\n",
      "82\n",
      "81\n",
      "80\n",
      "79\n",
      "78\n",
      "77\n",
      "76\n",
      "75\n",
      "74\n",
      "73\n",
      "72\n",
      "71\n",
      "70\n",
      "69\n",
      "68\n",
      "67\n",
      "66\n",
      "65\n",
      "64\n",
      "63\n",
      "62\n",
      "61\n",
      "60\n",
      "59\n",
      "58\n",
      "57\n",
      "56\n",
      "55\n",
      "54\n",
      "53\n",
      "52\n",
      "51\n",
      "50\n",
      "49\n",
      "48\n",
      "47\n",
      "46\n",
      "45\n",
      "44\n",
      "43\n",
      "42\n",
      "41\n",
      "40\n",
      "39\n",
      "38\n",
      "37\n",
      "36\n",
      "35\n",
      "34\n",
      "33\n",
      "32\n",
      "31\n",
      "30\n",
      "29\n",
      "28\n",
      "27\n",
      "26\n",
      "25\n",
      "24\n",
      "23\n",
      "22\n",
      "21\n",
      "20\n",
      "19\n",
      "18\n",
      "17\n",
      "16\n",
      "15\n",
      "14\n",
      "13\n",
      "12\n",
      "11\n",
      "10\n",
      "9\n",
      "8\n",
      "7\n",
      "6\n",
      "5\n",
      "4\n",
      "3\n",
      "2\n",
      "1\n"
     ]
    }
   ],
   "source": [
    "number=100\n",
    "while(number>0):\n",
    "    print(number)\n",
    "    number -= 1  # Decrementing the number by 1 in each iteration"
   ]
  },
  {
   "cell_type": "code",
   "execution_count": 98,
   "id": "2608020e",
   "metadata": {},
   "outputs": [
    {
     "name": "stdout",
     "output_type": "stream",
     "text": [
      "100,99,98,97,96,95,94,93,92,91,90,89,88,87,86,85,84,83,82,81,80,79,78,77,76,75,74,73,72,71,70,69,68,67,66,65,64,63,62,61,60,59,58,57,56,55,54,53,52,51,50,49,48,47,46,45,44,43,42,41,40,39,38,37,36,35,34,33,32,31,30,29,28,27,26,25,24,23,22,21,20,19,18,17,16,15,14,13,12,11,10,9,8,7,6,5,4,3,2,1,"
     ]
    }
   ],
   "source": [
    "number=100\n",
    "while(number>0):\n",
    "    print(number,end=\",\")\n",
    "    number -= 1  # Decrementing the number by 1 in each iteration"
   ]
  },
  {
   "cell_type": "code",
   "execution_count": 100,
   "id": "1e142f72",
   "metadata": {},
   "outputs": [
    {
     "name": "stdout",
     "output_type": "stream",
     "text": [
      "100\n",
      "50\n",
      "25\n",
      "12\n",
      "6\n",
      "3\n",
      "1\n"
     ]
    }
   ],
   "source": [
    "number=100\n",
    "while(number>0):\n",
    "    print(number)\n",
    "    number //=2  # Integer division by 2 in each iteration, effectively halving the number"
   ]
  },
  {
   "cell_type": "code",
   "execution_count": 101,
   "id": "a37288f3",
   "metadata": {},
   "outputs": [],
   "source": [
    "#CTRL + D causes the while loop to terminate if the condition is met, otherwise it will run indefinitely."
   ]
  },
  {
   "cell_type": "code",
   "execution_count": 102,
   "id": "4da7f505",
   "metadata": {},
   "outputs": [
    {
     "name": "stdout",
     "output_type": "stream",
     "text": [
      "You entered: exit\n",
      "You entered: quit\n"
     ]
    }
   ],
   "source": [
    "command = \"\"\n",
    "while command.lower() != \"quit\": #.lower() returns the string in lowercase\n",
    "    command = input(\">\").lower()\n",
    "    print(\"You entered:\", command)\n",
    "    # This loop will continue until the user types 'quit'"
   ]
  },
  {
   "cell_type": "code",
   "execution_count": 112,
   "id": "22304485",
   "metadata": {},
   "outputs": [
    {
     "name": "stdout",
     "output_type": "stream",
     "text": [
      "You entered q Try Again\n",
      "You entered QUIT Try Again\n",
      "BYE quit\n"
     ]
    }
   ],
   "source": [
    "command = \"\" #we need to define command as an empty string before the while loop to make it iterable\n",
    "while(command != \"quit\"):\n",
    "    command=input(\">\")\n",
    "    if(command!= \"quit\"):\n",
    "        print(\"You entered\",command, \"Try Again\")\n",
    "    if(command== \"quit\"):\n",
    "        print(\"BYE\",command)"
   ]
  },
  {
   "cell_type": "code",
   "execution_count": 126,
   "id": "2240d118",
   "metadata": {},
   "outputs": [
    {
     "name": "stdout",
     "output_type": "stream",
     "text": [
      "You entered: \n",
      "Correct! Exiting the loop.\n"
     ]
    }
   ],
   "source": [
    "while True:\n",
    "    command = input(\">\")\n",
    "    if command.lower() == \"quit\":\n",
    "        print(\"Correct! Exiting the loop.\")\n",
    "        break  # Exits the loop when 'quit' is entered\n",
    "    else:\n",
    "        print(\"You entered:\", command)\n",
    "        # This loop will continue until the user types 'quit'"
   ]
  },
  {
   "cell_type": "code",
   "execution_count": null,
   "id": "09a53607",
   "metadata": {},
   "outputs": [
    {
     "name": "stdout",
     "output_type": "stream",
     "text": [
      "2\n",
      "4\n",
      "6\n",
      "8\n",
      "10\n",
      "There are  5  even numbers\n"
     ]
    }
   ],
   "source": [
    "sum=0\n",
    "for x in range(1,11):\n",
    "    if(x % 2 == 0):\n",
    "        sum+=1\n",
    "        print(x)\n",
    "print(\"There are \",sum,\" even numbers\")\n",
    "# we dont need to initialise s before the for loop, it will automatically be initialized to 0\n",
    "# However, if you want to use s outside the for loop, you need to initialize it\n",
    "    "
   ]
  },
  {
   "cell_type": "code",
   "execution_count": 130,
   "id": "9e739bd8",
   "metadata": {},
   "outputs": [
    {
     "name": "stdout",
     "output_type": "stream",
     "text": [
      "2\n",
      "4\n",
      "6\n",
      "8\n",
      "10\n",
      "There are  5  even numbers\n",
      "5\n"
     ]
    }
   ],
   "source": [
    "s=0\n",
    "for x in range(1,11):\n",
    "    if(x % 2 == 0):\n",
    "        s+=1\n",
    "        print(x)\n",
    "print(\"There are \",s,\" even numbers\")\n",
    "print(s) #no error as we initialised s before the for loop"
   ]
  }
 ],
 "metadata": {
  "kernelspec": {
   "display_name": "base",
   "language": "python",
   "name": "python3"
  },
  "language_info": {
   "codemirror_mode": {
    "name": "ipython",
    "version": 3
   },
   "file_extension": ".py",
   "mimetype": "text/x-python",
   "name": "python",
   "nbconvert_exporter": "python",
   "pygments_lexer": "ipython3",
   "version": "3.13.5"
  }
 },
 "nbformat": 4,
 "nbformat_minor": 5
}
